{
  "cells": [
    {
      "cell_type": "markdown",
      "metadata": {
        "id": "view-in-github",
        "colab_type": "text"
      },
      "source": [
        "<a href=\"https://colab.research.google.com/github/towardsai/ai-tutor-rag-system/blob/notebook%2Faman/More_API_and_Tools.ipynb\" target=\"_parent\"><img src=\"https://colab.research.google.com/assets/colab-badge.svg\" alt=\"Open In Colab\"/></a>"
      ]
    },
    {
      "cell_type": "markdown",
      "source": [
        "#1. Llamaparse"
      ],
      "metadata": {
        "id": "IP_XthpV2L_s"
      }
    },
    {
      "cell_type": "markdown",
      "metadata": {
        "id": "vV92zrs8ki7E"
      },
      "source": [
        "## Installing Requirements"
      ]
    },
    {
      "cell_type": "code",
      "execution_count": null,
      "metadata": {
        "id": "pv7jcSZjki7G",
        "colab": {
          "base_uri": "https://localhost:8080/"
        },
        "outputId": "54d8a0fe-ee87-48ac-9f6e-2f7a11f3ea43"
      },
      "outputs": [
        {
          "output_type": "stream",
          "name": "stdout",
          "text": [
            "\u001b[2K   \u001b[90m━━━━━━━━━━━━━━━━━━━━━━━━━━━━━━━━━━━━━━━━\u001b[0m \u001b[32m1.6/1.6 MB\u001b[0m \u001b[31m20.6 MB/s\u001b[0m eta \u001b[36m0:00:00\u001b[0m\n",
            "\u001b[2K   \u001b[90m━━━━━━━━━━━━━━━━━━━━━━━━━━━━━━━━━━━━━━━━\u001b[0m \u001b[32m1.2/1.2 MB\u001b[0m \u001b[31m40.7 MB/s\u001b[0m eta \u001b[36m0:00:00\u001b[0m\n",
            "\u001b[2K   \u001b[90m━━━━━━━━━━━━━━━━━━━━━━━━━━━━━━━━━━━━━━━━\u001b[0m \u001b[32m1.5/1.5 MB\u001b[0m \u001b[31m38.7 MB/s\u001b[0m eta \u001b[36m0:00:00\u001b[0m\n",
            "\u001b[2K   \u001b[90m━━━━━━━━━━━━━━━━━━━━━━━━━━━━━━━━━━━━━━━━\u001b[0m \u001b[32m176.8/176.8 kB\u001b[0m \u001b[31m9.7 MB/s\u001b[0m eta \u001b[36m0:00:00\u001b[0m\n",
            "\u001b[2K   \u001b[90m━━━━━━━━━━━━━━━━━━━━━━━━━━━━━━━━━━━━━━━━\u001b[0m \u001b[32m76.4/76.4 kB\u001b[0m \u001b[31m5.0 MB/s\u001b[0m eta \u001b[36m0:00:00\u001b[0m\n",
            "\u001b[2K   \u001b[90m━━━━━━━━━━━━━━━━━━━━━━━━━━━━━━━━━━━━━━━━\u001b[0m \u001b[32m78.0/78.0 kB\u001b[0m \u001b[31m4.3 MB/s\u001b[0m eta \u001b[36m0:00:00\u001b[0m\n",
            "\u001b[2K   \u001b[90m━━━━━━━━━━━━━━━━━━━━━━━━━━━━━━━━━━━━━━━━\u001b[0m \u001b[32m386.9/386.9 kB\u001b[0m \u001b[31m14.9 MB/s\u001b[0m eta \u001b[36m0:00:00\u001b[0m\n",
            "\u001b[2K   \u001b[90m━━━━━━━━━━━━━━━━━━━━━━━━━━━━━━━━━━━━━━━━\u001b[0m \u001b[32m295.8/295.8 kB\u001b[0m \u001b[31m16.0 MB/s\u001b[0m eta \u001b[36m0:00:00\u001b[0m\n",
            "\u001b[2K   \u001b[90m━━━━━━━━━━━━━━━━━━━━━━━━━━━━━━━━━━━━━━━━\u001b[0m \u001b[32m1.2/1.2 MB\u001b[0m \u001b[31m36.0 MB/s\u001b[0m eta \u001b[36m0:00:00\u001b[0m\n",
            "\u001b[2K   \u001b[90m━━━━━━━━━━━━━━━━━━━━━━━━━━━━━━━━━━━━━━━━\u001b[0m \u001b[32m325.2/325.2 kB\u001b[0m \u001b[31m19.2 MB/s\u001b[0m eta \u001b[36m0:00:00\u001b[0m\n",
            "\u001b[2K   \u001b[90m━━━━━━━━━━━━━━━━━━━━━━━━━━━━━━━━━━━━━━━━\u001b[0m \u001b[32m49.5/49.5 kB\u001b[0m \u001b[31m2.6 MB/s\u001b[0m eta \u001b[36m0:00:00\u001b[0m\n",
            "\u001b[2K   \u001b[90m━━━━━━━━━━━━━━━━━━━━━━━━━━━━━━━━━━━━━━━━\u001b[0m \u001b[32m58.3/58.3 kB\u001b[0m \u001b[31m3.5 MB/s\u001b[0m eta \u001b[36m0:00:00\u001b[0m\n",
            "\u001b[?25h"
          ]
        }
      ],
      "source": [
        "!pip install -q llama-index==0.11.16 llama-parse==0.5.7"
      ]
    },
    {
      "cell_type": "markdown",
      "source": [
        "Setting ENV"
      ],
      "metadata": {
        "id": "tyrUr1vumJ3m"
      }
    },
    {
      "cell_type": "code",
      "source": [
        "import os\n",
        "os.environ[\"LLAMA_CLOUD_API_KEY\"] = \"<LLAMA_CLOUD_API_KEY>\"\n",
        "os.environ[\"OPENAI_API_KEY\"] = \"<OPENAI_API_KEY>\""
      ],
      "metadata": {
        "id": "pdugMsvemL7e"
      },
      "execution_count": null,
      "outputs": []
    },
    {
      "cell_type": "code",
      "source": [
        "import nest_asyncio\n",
        "nest_asyncio.apply()"
      ],
      "metadata": {
        "id": "vq44XKn_p6zi"
      },
      "execution_count": null,
      "outputs": []
    },
    {
      "cell_type": "markdown",
      "source": [
        "## Downloading the pdf"
      ],
      "metadata": {
        "id": "Hu18SRLAufzt"
      }
    },
    {
      "cell_type": "code",
      "execution_count": null,
      "metadata": {
        "id": "XaMsc4n7ki7H"
      },
      "outputs": [],
      "source": [
        "# Write python code to download this pdf and store it somewhere\n",
        "import requests\n",
        "\n",
        "quaterly_report_pdf = \"amazon_q1_report_2024.pdf\"\n",
        "response = requests.get(\"https://s2.q4cdn.com/299287126/files/doc_financials/2024/q1/AMZN-Q1-2024-Earnings-Release.pdf\")\n",
        "with open(quaterly_report_pdf, 'wb') as f:\n",
        "    f.write(response.content)\n"
      ]
    },
    {
      "cell_type": "markdown",
      "metadata": {
        "id": "gUXdR0Elki7I"
      },
      "source": [
        "#### Use LlamaParse to parse quaterly report"
      ]
    },
    {
      "cell_type": "code",
      "execution_count": null,
      "metadata": {
        "id": "QTJZh_JTki7I",
        "outputId": "760f3136-802c-4c80-e884-0bea5f56b3a9",
        "colab": {
          "base_uri": "https://localhost:8080/",
          "height": 586
        }
      },
      "outputs": [
        {
          "output_type": "stream",
          "name": "stdout",
          "text": [
            "Started parsing the file under job_id 73e688b1-0b9b-43c7-ae89-d5dee178b2dc\n",
            "....."
          ]
        },
        {
          "output_type": "execute_result",
          "data": {
            "text/plain": [
              "<IPython.core.display.Markdown object>"
            ],
            "text/markdown": "# AMAZON.COM ANNOUNCES FIRST QUARTER RESULTS\n\nSEATTLE—(BUSINESS WIRE) April 30, 2024—Amazon.com, Inc. (NASDAQ: AMZN) today announced financial results for its first quarter ended March 31, 2024.\n\n- Net sales increased 13% to $143.3 billion in the first quarter, compared with $127.4 billion in first quarter 2023.\n- Excluding the $0.2 billion unfavorable impact from year-over-year changes in foreign exchange rates throughout the quarter, net sales increased 13% compared with first quarter 2023.\n- North America segment sales increased 12% year-over-year to $86.3 billion.\n- International segment sales increased 10% year-over-year to $31.9 billion, or increased 11% excluding changes in foreign exchange rates.\n- AWS segment sales increased 17% year-over-year to $25.0 billion.\n- Operating income increased to $15.3 billion in the first quarter, compared with $4.8 billion in first quarter 2023.\n- North America segment operating income was $5.0 billion, compared with operating income of $0.9 billion in first quarter 2023.\n- International segment operating income was $0.9 billion, compared with an operating loss of $1.2 billion in first quarter 2023.\n- AWS segment operating income was $9.4 billion, compared with operating income of $5.1 billion in first quarter 2023.\n- Net income increased to $10.4 billion in the first quarter, or $0.98 per diluted share, compared with $3.2 billion, or $0.31 per diluted share, in first quarter 2023.\n- First quarter 2024 net income includes a pre-tax valuation loss of $2.0 billion included in non-operating expense from the common stock investment in Rivian Automotive, Inc., compared to a pre-tax valuation loss of $0.5 billion from the investment in first quarter 2023.\n- Operating cash flow increased 82% to $99.1 billion for the trailing twelve months, compared with $54.3 billion for the trailing twelve months ended March 31, 2023.\n- Free cash flow improved to an inflow of $50.1 billion for the trailing twelve months, compared with an outflow of $3.3 billion for the trailing twelve months ended March 31, 2023.\n- Free cash flow less principal repayments of finance leases and financing obligations improved to an inflow of $46.1 billion for the trailing twelve months, compared with an outflow of $10.1 billion for the trailing twelve months ended March 31, 2023.\n- Free cash flow less equipment finance leases and principal repayments of all other finance leases and financing obligations improved to an inflow of $48.8 billion for the trailing twelve months, compared with an outflow of $4.5 billion for the trailing twelve months ended March 31, 2023."
          },
          "metadata": {},
          "execution_count": 6
        }
      ],
      "source": [
        "from llama_parse import LlamaParse\n",
        "from llama_index.core import SimpleDirectoryReader\n",
        "from IPython.display import Markdown\n",
        "\n",
        "# set up parser\n",
        "parser = LlamaParse(\n",
        "    result_type=\"markdown\"\n",
        ")\n",
        "file_extractor = {\".pdf\": parser}\n",
        "documents = SimpleDirectoryReader(input_files=['amazon_q1_report_2024.pdf'], file_extractor=file_extractor).load_data()\n",
        "Markdown(documents[0].text)"
      ]
    },
    {
      "cell_type": "code",
      "source": [
        "Markdown(documents[15].text)"
      ],
      "metadata": {
        "colab": {
          "base_uri": "https://localhost:8080/",
          "height": 1000
        },
        "id": "Rk-QFtYri6bj",
        "outputId": "757e8deb-03a8-4775-b40b-ff7eb03896ad"
      },
      "execution_count": null,
      "outputs": [
        {
          "output_type": "execute_result",
          "data": {
            "text/plain": [
              "<IPython.core.display.Markdown object>"
            ],
            "text/markdown": "# AMAZON.COM, INC.\n\n# Supplemental Financial Information and Business Metrics\n\n# (in millions, except employee data)\n\n# (unaudited)\n\n| |Q4 2022|Q1 2023|Q2 2023|Q3 2023|Q4 2023|Q1 2024|Y/Y % Change|\n|---|---|---|---|---|---|---|---|\n|Net Sales|$ 64,531|$ 51,096|$ 52,966|$ 57,267|$ 70,543|$ 54,670|7 %|\n|Online stores (1)| | | | | | |2 %|\n|Online stores -- Y/Y growth, excluding F/X|2 %|3 %|5 %|6 %|8 %|7 %|N/A|\n|Physical stores (2)|$ 4,957|$ 4,895|$ 5,024|$ 4,959|$ 5,152|$ 5,202|6 %|\n|Physical stores -- Y/Y growth, excluding F/X|6 %|7 %|7 %|6 %|4 %|6 %|N/A|\n|Third-party seller services (3)|$ 36,339|$ 29,820|$ 32,332|$ 34,342|$ 43,559|$ 34,596|16 %|\n|Third-party seller services -- Y/Y growth, excluding F/X|24 %|20 %|18 %|18 %|19 %|16 %|N/A|\n|Advertising services (4)|$ 11,557|$ 9,509|$ 10,683|$ 12,060|$ 14,654|$ 11,824|24 %|\n|Advertising services -- Y/Y growth, excluding F/X|23 %|23 %|22 %|25 %|26 %|24 %|N/A|\n|Subscription services (5)|$ 9,189|$ 9,657|$ 9,894|$ 10,170|$ 10,488|$ 10,722|11 %|\n|Subscription services -- Y/Y growth, excluding F/X|17 %|17 %|14 %|13 %|13 %|11 %|N/A|\n|AWS|$ 21,378|$ 21,354|$ 22,140|$ 23,059|$ 24,204|$ 25,037|17 %|\n|AWS -- Y/Y growth, excluding F/X|20 %|16 %|12 %|12 %|13 %|17 %|N/A|\n|Other (6)|$ 1,253|$ 1,027|$ 1,344|$ 1,226|$ 1,361|$ 1,262|23 %|\n|Other -- Y/Y growth (decline), excluding F/X|80 %|57 %|26 %|(3)%|8 %|23 %|N/A|\n\n# Stock-based Compensation Expense\n\n| |Q4 2022|Q1 2023|Q2 2023|Q3 2023|Q4 2023|Q1 2024|Y/Y % Change|\n|---|---|---|---|---|---|---|---|\n|Cost of sales|$ 208|$ 165|$ 251|$ 193|$ 227|$ 174|6 %|\n|Fulfillment|$ 757|$ 603|$ 932|$ 732|$ 823|$ 636|5 %|\n|Technology and infrastructure|$ 3,126|$ 2,574|$ 4,043|$ 3,284|$ 3,533|$ 2,772|8 %|\n|Sales and marketing|$ 1,092|$ 993|$ 1,303|$ 1,111|$ 1,216|$ 932|(6) %|\n|General and administrative|$ 423|$ 413|$ 598|$ 509|$ 520|$ 447|8 %|\n|Total stock-based compensation expense|$ 5,606|$ 4,748|$ 7,127|$ 5,829|$ 6,319|$ 4,961|4 %|\n\n# Other\n\n| |Q4 2022|Q1 2023|Q2 2023|Q3 2023|Q4 2023|Q1 2024|Y/Y % Change|\n|---|---|---|---|---|---|---|---|\n|WW shipping costs|$ 24,714|$ 19,937|$ 20,418|$ 21,799|$ 27,326|$ 21,834|10 %|\n|WW shipping costs -- Y/Y growth|4 %|2 %|6 %|9 %|11 %|10 %|N/A|\n|WW paid units -- Y/Y growth (7)|8 %|8 %|9 %|9 %|12 %|12 %|N/A|\n|WW seller unit mix -- % of WW paid units (7)|59 %|59 %|60 %|60 %|61 %|61 %|N/A|\n|Employees (full-time and part-time; excludes contractors & temporary personnel)|1,541,000|1,465,000|1,461,000|1,500,000|1,525,000|1,521,000|4 %|\n|Employees (full-time and part-time; excludes contractors & temporary personnel) -- Y/Y growth (decline)|(4)%|(10)%|(4)%|(3)%|(1)%|4 %|N/A|\n\n# Footnotes\n\n(1) Includes product sales and digital media content where we record revenue gross. We leverage our retail infrastructure to offer a wide selection of consumable and durable goods that includes media products available in both a physical and digital format, such as books, videos, games, music, and software. These product sales include digital products sold on a transactional basis. Digital media content subscriptions that provide unlimited viewing or usage rights are included in “Subscription services.”\n\n(2) Includes product sales where our customers physically select items in a store. Sales to customers who order goods online for delivery or pickup at our physical stores are included in “Online stores.”\n\n(3) Includes commissions and any related fulfillment and shipping fees, and other third-party seller services.\n\n(4) Includes sales of advertising services to sellers, vendors, publishers, authors, and others, through programs such as sponsored ads, display, and video advertising.\n\n(5) Includes annual and monthly fees associated with Amazon Prime memberships, as well as digital video, audiobook, digital music, e-book, and other non-AWS subscription services.\n\n(6) Includes sales related to various other offerings, such as health care services, certain licensing and distribution of video content, and shipping services, and our co-branded credit card agreements.\n\n(7) Excludes the impact of Whole Foods Market."
          },
          "metadata": {},
          "execution_count": 7
        }
      ]
    },
    {
      "cell_type": "markdown",
      "source": [
        "# CrewAI"
      ],
      "metadata": {
        "id": "58JjY-Hm2G9Q"
      }
    },
    {
      "cell_type": "markdown",
      "source": [
        "### Install required pacakges\n"
      ],
      "metadata": {
        "id": "HV1DyBd2RHrN"
      }
    },
    {
      "cell_type": "code",
      "source": [
        "!pip install --q crewai duckduckgo-search langchain_openai"
      ],
      "metadata": {
        "id": "xOj-BuKARJrH",
        "colab": {
          "base_uri": "https://localhost:8080/"
        },
        "outputId": "653e527c-f4ac-48ad-c819-5654dd475a37"
      },
      "execution_count": null,
      "outputs": [
        {
          "output_type": "stream",
          "name": "stdout",
          "text": [
            "\u001b[?25l     \u001b[90m━━━━━━━━━━━━━━━━━━━━━━━━━━━━━━━━━━━━━━━━\u001b[0m \u001b[32m0.0/67.3 kB\u001b[0m \u001b[31m?\u001b[0m eta \u001b[36m-:--:--\u001b[0m\r\u001b[2K     \u001b[90m━━━━━━━━━━━━━━━━━━━━━━━━━━━━━━━━━━━━━━━━\u001b[0m \u001b[32m67.3/67.3 kB\u001b[0m \u001b[31m3.9 MB/s\u001b[0m eta \u001b[36m0:00:00\u001b[0m\n",
            "\u001b[?25h  Installing build dependencies ... \u001b[?25l\u001b[?25hdone\n",
            "  Getting requirements to build wheel ... \u001b[?25l\u001b[?25hdone\n",
            "  Preparing metadata (pyproject.toml) ... \u001b[?25l\u001b[?25hdone\n",
            "\u001b[2K     \u001b[90m━━━━━━━━━━━━━━━━━━━━━━━━━━━━━━━━━━━━━━━━\u001b[0m \u001b[32m50.6/50.6 kB\u001b[0m \u001b[31m3.4 MB/s\u001b[0m eta \u001b[36m0:00:00\u001b[0m\n",
            "\u001b[?25h  Preparing metadata (setup.py) ... \u001b[?25l\u001b[?25hdone\n",
            "\u001b[2K   \u001b[90m━━━━━━━━━━━━━━━━━━━━━━━━━━━━━━━━━━━━━━━━\u001b[0m \u001b[32m189.3/189.3 kB\u001b[0m \u001b[31m7.2 MB/s\u001b[0m eta \u001b[36m0:00:00\u001b[0m\n",
            "\u001b[2K   \u001b[90m━━━━━━━━━━━━━━━━━━━━━━━━━━━━━━━━━━━━━━━━\u001b[0m \u001b[32m49.9/49.9 kB\u001b[0m \u001b[31m3.9 MB/s\u001b[0m eta \u001b[36m0:00:00\u001b[0m\n",
            "\u001b[2K   \u001b[90m━━━━━━━━━━━━━━━━━━━━━━━━━━━━━━━━━━━━━━━━\u001b[0m \u001b[32m131.8/131.8 kB\u001b[0m \u001b[31m10.0 MB/s\u001b[0m eta \u001b[36m0:00:00\u001b[0m\n",
            "\u001b[2K   \u001b[90m━━━━━━━━━━━━━━━━━━━━━━━━━━━━━━━━━━━━━━━━\u001b[0m \u001b[32m463.4/463.4 kB\u001b[0m \u001b[31m19.7 MB/s\u001b[0m eta \u001b[36m0:00:00\u001b[0m\n",
            "\u001b[2K   \u001b[90m━━━━━━━━━━━━━━━━━━━━━━━━━━━━━━━━━━━━━━━━\u001b[0m \u001b[32m69.4/69.4 kB\u001b[0m \u001b[31m1.8 MB/s\u001b[0m eta \u001b[36m0:00:00\u001b[0m\n",
            "\u001b[2K   \u001b[90m━━━━━━━━━━━━━━━━━━━━━━━━━━━━━━━━━━━━━━━━\u001b[0m \u001b[32m1.0/1.0 MB\u001b[0m \u001b[31m29.9 MB/s\u001b[0m eta \u001b[36m0:00:00\u001b[0m\n",
            "\u001b[2K   \u001b[90m━━━━━━━━━━━━━━━━━━━━━━━━━━━━━━━━━━━━━━━━\u001b[0m \u001b[32m407.7/407.7 kB\u001b[0m \u001b[31m26.7 MB/s\u001b[0m eta \u001b[36m0:00:00\u001b[0m\n",
            "\u001b[2K   \u001b[90m━━━━━━━━━━━━━━━━━━━━━━━━━━━━━━━━━━━━━━━━\u001b[0m \u001b[32m6.3/6.3 MB\u001b[0m \u001b[31m75.4 MB/s\u001b[0m eta \u001b[36m0:00:00\u001b[0m\n",
            "\u001b[2K   \u001b[90m━━━━━━━━━━━━━━━━━━━━━━━━━━━━━━━━━━━━━━━━\u001b[0m \u001b[32m64.0/64.0 kB\u001b[0m \u001b[31m4.8 MB/s\u001b[0m eta \u001b[36m0:00:00\u001b[0m\n",
            "\u001b[2K   \u001b[90m━━━━━━━━━━━━━━━━━━━━━━━━━━━━━━━━━━━━━━━━\u001b[0m \u001b[32m52.5/52.5 kB\u001b[0m \u001b[31m3.7 MB/s\u001b[0m eta \u001b[36m0:00:00\u001b[0m\n",
            "\u001b[2K   \u001b[90m━━━━━━━━━━━━━━━━━━━━━━━━━━━━━━━━━━━━━━━━\u001b[0m \u001b[32m110.5/110.5 kB\u001b[0m \u001b[31m8.3 MB/s\u001b[0m eta \u001b[36m0:00:00\u001b[0m\n",
            "\u001b[2K   \u001b[90m━━━━━━━━━━━━━━━━━━━━━━━━━━━━━━━━━━━━━━━━\u001b[0m \u001b[32m149.7/149.7 kB\u001b[0m \u001b[31m10.5 MB/s\u001b[0m eta \u001b[36m0:00:00\u001b[0m\n",
            "\u001b[2K   \u001b[90m━━━━━━━━━━━━━━━━━━━━━━━━━━━━━━━━━━━━━━━━\u001b[0m \u001b[32m3.0/3.0 MB\u001b[0m \u001b[31m54.5 MB/s\u001b[0m eta \u001b[36m0:00:00\u001b[0m\n",
            "\u001b[2K   \u001b[90m━━━━━━━━━━━━━━━━━━━━━━━━━━━━━━━━━━━━━━━━\u001b[0m \u001b[32m756.0/756.0 kB\u001b[0m \u001b[31m37.8 MB/s\u001b[0m eta \u001b[36m0:00:00\u001b[0m\n",
            "\u001b[2K   \u001b[90m━━━━━━━━━━━━━━━━━━━━━━━━━━━━━━━━━━━━━━━━\u001b[0m \u001b[32m13.7/13.7 MB\u001b[0m \u001b[31m53.8 MB/s\u001b[0m eta \u001b[36m0:00:00\u001b[0m\n",
            "\u001b[2K   \u001b[90m━━━━━━━━━━━━━━━━━━━━━━━━━━━━━━━━━━━━━━━━\u001b[0m \u001b[32m273.8/273.8 kB\u001b[0m \u001b[31m17.7 MB/s\u001b[0m eta \u001b[36m0:00:00\u001b[0m\n",
            "\u001b[2K   \u001b[90m━━━━━━━━━━━━━━━━━━━━━━━━━━━━━━━━━━━━━━━━\u001b[0m \u001b[32m147.8/147.8 kB\u001b[0m \u001b[31m10.2 MB/s\u001b[0m eta \u001b[36m0:00:00\u001b[0m\n",
            "\u001b[2K   \u001b[90m━━━━━━━━━━━━━━━━━━━━━━━━━━━━━━━━━━━━━━━━\u001b[0m \u001b[32m210.9/210.9 kB\u001b[0m \u001b[31m14.8 MB/s\u001b[0m eta \u001b[36m0:00:00\u001b[0m\n",
            "\u001b[2K   \u001b[90m━━━━━━━━━━━━━━━━━━━━━━━━━━━━━━━━━━━━━━━━\u001b[0m \u001b[32m525.5/525.5 kB\u001b[0m \u001b[31m24.2 MB/s\u001b[0m eta \u001b[36m0:00:00\u001b[0m\n",
            "\u001b[2K   \u001b[90m━━━━━━━━━━━━━━━━━━━━━━━━━━━━━━━━━━━━━━━━\u001b[0m \u001b[32m2.4/2.4 MB\u001b[0m \u001b[31m62.8 MB/s\u001b[0m eta \u001b[36m0:00:00\u001b[0m\n",
            "\u001b[2K   \u001b[90m━━━━━━━━━━━━━━━━━━━━━━━━━━━━━━━━━━━━━━━━\u001b[0m \u001b[32m1.1/1.1 MB\u001b[0m \u001b[31m48.7 MB/s\u001b[0m eta \u001b[36m0:00:00\u001b[0m\n",
            "\u001b[2K   \u001b[90m━━━━━━━━━━━━━━━━━━━━━━━━━━━━━━━━━━━━━━━━\u001b[0m \u001b[32m94.6/94.6 kB\u001b[0m \u001b[31m7.2 MB/s\u001b[0m eta \u001b[36m0:00:00\u001b[0m\n",
            "\u001b[2K   \u001b[90m━━━━━━━━━━━━━━━━━━━━━━━━━━━━━━━━━━━━━━━━\u001b[0m \u001b[32m318.9/318.9 kB\u001b[0m \u001b[31m19.6 MB/s\u001b[0m eta \u001b[36m0:00:00\u001b[0m\n",
            "\u001b[2K   \u001b[90m━━━━━━━━━━━━━━━━━━━━━━━━━━━━━━━━━━━━━━━━\u001b[0m \u001b[32m1.9/1.9 MB\u001b[0m \u001b[31m50.3 MB/s\u001b[0m eta \u001b[36m0:00:00\u001b[0m\n",
            "\u001b[2K   \u001b[90m━━━━━━━━━━━━━━━━━━━━━━━━━━━━━━━━━━━━━━━━\u001b[0m \u001b[32m27.0/27.0 MB\u001b[0m \u001b[31m23.8 MB/s\u001b[0m eta \u001b[36m0:00:00\u001b[0m\n",
            "\u001b[2K   \u001b[90m━━━━━━━━━━━━━━━━━━━━━━━━━━━━━━━━━━━━━━━━\u001b[0m \u001b[32m30.0/30.0 MB\u001b[0m \u001b[31m16.3 MB/s\u001b[0m eta \u001b[36m0:00:00\u001b[0m\n",
            "\u001b[2K   \u001b[90m━━━━━━━━━━━━━━━━━━━━━━━━━━━━━━━━━━━━━━━━\u001b[0m \u001b[32m296.9/296.9 kB\u001b[0m \u001b[31m19.1 MB/s\u001b[0m eta \u001b[36m0:00:00\u001b[0m\n",
            "\u001b[2K   \u001b[90m━━━━━━━━━━━━━━━━━━━━━━━━━━━━━━━━━━━━━━━━\u001b[0m \u001b[32m93.2/93.2 kB\u001b[0m \u001b[31m7.0 MB/s\u001b[0m eta \u001b[36m0:00:00\u001b[0m\n",
            "\u001b[2K   \u001b[90m━━━━━━━━━━━━━━━━━━━━━━━━━━━━━━━━━━━━━━━━\u001b[0m \u001b[32m13.2/13.2 MB\u001b[0m \u001b[31m67.2 MB/s\u001b[0m eta \u001b[36m0:00:00\u001b[0m\n",
            "\u001b[2K   \u001b[90m━━━━━━━━━━━━━━━━━━━━━━━━━━━━━━━━━━━━━━━━\u001b[0m \u001b[32m144.5/144.5 kB\u001b[0m \u001b[31m11.5 MB/s\u001b[0m eta \u001b[36m0:00:00\u001b[0m\n",
            "\u001b[2K   \u001b[90m━━━━━━━━━━━━━━━━━━━━━━━━━━━━━━━━━━━━━━━━\u001b[0m \u001b[32m54.4/54.4 kB\u001b[0m \u001b[31m3.9 MB/s\u001b[0m eta \u001b[36m0:00:00\u001b[0m\n",
            "\u001b[2K   \u001b[90m━━━━━━━━━━━━━━━━━━━━━━━━━━━━━━━━━━━━━━━━\u001b[0m \u001b[32m5.4/5.4 MB\u001b[0m \u001b[31m84.2 MB/s\u001b[0m eta \u001b[36m0:00:00\u001b[0m\n",
            "\u001b[2K   \u001b[90m━━━━━━━━━━━━━━━━━━━━━━━━━━━━━━━━━━━━━━━━\u001b[0m \u001b[32m342.3/342.3 kB\u001b[0m \u001b[31m21.0 MB/s\u001b[0m eta \u001b[36m0:00:00\u001b[0m\n",
            "\u001b[2K   \u001b[90m━━━━━━━━━━━━━━━━━━━━━━━━━━━━━━━━━━━━━━━━\u001b[0m \u001b[32m57.6/57.6 kB\u001b[0m \u001b[31m4.6 MB/s\u001b[0m eta \u001b[36m0:00:00\u001b[0m\n",
            "\u001b[2K   \u001b[90m━━━━━━━━━━━━━━━━━━━━━━━━━━━━━━━━━━━━━━━━\u001b[0m \u001b[32m9.7/9.7 MB\u001b[0m \u001b[31m55.5 MB/s\u001b[0m eta \u001b[36m0:00:00\u001b[0m\n",
            "\u001b[2K   \u001b[90m━━━━━━━━━━━━━━━━━━━━━━━━━━━━━━━━━━━━━━━━\u001b[0m \u001b[32m63.7/63.7 kB\u001b[0m \u001b[31m3.9 MB/s\u001b[0m eta \u001b[36m0:00:00\u001b[0m\n",
            "\u001b[2K   \u001b[90m━━━━━━━━━━━━━━━━━━━━━━━━━━━━━━━━━━━━━━━━\u001b[0m \u001b[32m233.2/233.2 kB\u001b[0m \u001b[31m16.4 MB/s\u001b[0m eta \u001b[36m0:00:00\u001b[0m\n",
            "\u001b[2K   \u001b[90m━━━━━━━━━━━━━━━━━━━━━━━━━━━━━━━━━━━━━━━━\u001b[0m \u001b[32m249.7/249.7 kB\u001b[0m \u001b[31m16.8 MB/s\u001b[0m eta \u001b[36m0:00:00\u001b[0m\n",
            "\u001b[2K   \u001b[90m━━━━━━━━━━━━━━━━━━━━━━━━━━━━━━━━━━━━━━━━\u001b[0m \u001b[32m131.6/131.6 kB\u001b[0m \u001b[31m9.8 MB/s\u001b[0m eta \u001b[36m0:00:00\u001b[0m\n",
            "\u001b[2K   \u001b[90m━━━━━━━━━━━━━━━━━━━━━━━━━━━━━━━━━━━━━━━━\u001b[0m \u001b[32m442.1/442.1 kB\u001b[0m \u001b[31m26.1 MB/s\u001b[0m eta \u001b[36m0:00:00\u001b[0m\n",
            "\u001b[2K   \u001b[90m━━━━━━━━━━━━━━━━━━━━━━━━━━━━━━━━━━━━━━━━\u001b[0m \u001b[32m1.6/1.6 MB\u001b[0m \u001b[31m55.3 MB/s\u001b[0m eta \u001b[36m0:00:00\u001b[0m\n",
            "\u001b[2K   \u001b[90m━━━━━━━━━━━━━━━━━━━━━━━━━━━━━━━━━━━━━━━━\u001b[0m \u001b[32m44.0/44.0 kB\u001b[0m \u001b[31m2.8 MB/s\u001b[0m eta \u001b[36m0:00:00\u001b[0m\n",
            "\u001b[2K   \u001b[90m━━━━━━━━━━━━━━━━━━━━━━━━━━━━━━━━━━━━━━━━\u001b[0m \u001b[32m2.4/2.4 MB\u001b[0m \u001b[31m54.3 MB/s\u001b[0m eta \u001b[36m0:00:00\u001b[0m\n",
            "\u001b[2K   \u001b[90m━━━━━━━━━━━━━━━━━━━━━━━━━━━━━━━━━━━━━━━━\u001b[0m \u001b[32m75.7/75.7 kB\u001b[0m \u001b[31m5.5 MB/s\u001b[0m eta \u001b[36m0:00:00\u001b[0m\n",
            "\u001b[2K   \u001b[90m━━━━━━━━━━━━━━━━━━━━━━━━━━━━━━━━━━━━━━━━\u001b[0m \u001b[32m294.5/294.5 kB\u001b[0m \u001b[31m18.3 MB/s\u001b[0m eta \u001b[36m0:00:00\u001b[0m\n",
            "\u001b[2K   \u001b[90m━━━━━━━━━━━━━━━━━━━━━━━━━━━━━━━━━━━━━━━━\u001b[0m \u001b[32m71.1/71.1 kB\u001b[0m \u001b[31m5.7 MB/s\u001b[0m eta \u001b[36m0:00:00\u001b[0m\n",
            "\u001b[2K   \u001b[90m━━━━━━━━━━━━━━━━━━━━━━━━━━━━━━━━━━━━━━━━\u001b[0m \u001b[32m54.5/54.5 kB\u001b[0m \u001b[31m3.8 MB/s\u001b[0m eta \u001b[36m0:00:00\u001b[0m\n",
            "\u001b[2K   \u001b[90m━━━━━━━━━━━━━━━━━━━━━━━━━━━━━━━━━━━━━━━━\u001b[0m \u001b[32m73.2/73.2 kB\u001b[0m \u001b[31m5.2 MB/s\u001b[0m eta \u001b[36m0:00:00\u001b[0m\n",
            "\u001b[2K   \u001b[90m━━━━━━━━━━━━━━━━━━━━━━━━━━━━━━━━━━━━━━━━\u001b[0m \u001b[32m481.7/481.7 kB\u001b[0m \u001b[31m25.2 MB/s\u001b[0m eta \u001b[36m0:00:00\u001b[0m\n",
            "\u001b[2K   \u001b[90m━━━━━━━━━━━━━━━━━━━━━━━━━━━━━━━━━━━━━━━━\u001b[0m \u001b[32m3.8/3.8 MB\u001b[0m \u001b[31m69.2 MB/s\u001b[0m eta \u001b[36m0:00:00\u001b[0m\n",
            "\u001b[2K   \u001b[90m━━━━━━━━━━━━━━━━━━━━━━━━━━━━━━━━━━━━━━━━\u001b[0m \u001b[32m425.7/425.7 kB\u001b[0m \u001b[31m26.8 MB/s\u001b[0m eta \u001b[36m0:00:00\u001b[0m\n",
            "\u001b[2K   \u001b[90m━━━━━━━━━━━━━━━━━━━━━━━━━━━━━━━━━━━━━━━━\u001b[0m \u001b[32m164.1/164.1 kB\u001b[0m \u001b[31m13.2 MB/s\u001b[0m eta \u001b[36m0:00:00\u001b[0m\n",
            "\u001b[2K   \u001b[90m━━━━━━━━━━━━━━━━━━━━━━━━━━━━━━━━━━━━━━━━\u001b[0m \u001b[32m46.0/46.0 kB\u001b[0m \u001b[31m3.2 MB/s\u001b[0m eta \u001b[36m0:00:00\u001b[0m\n",
            "\u001b[2K   \u001b[90m━━━━━━━━━━━━━━━━━━━━━━━━━━━━━━━━━━━━━━━━\u001b[0m \u001b[32m3.1/3.1 MB\u001b[0m \u001b[31m69.4 MB/s\u001b[0m eta \u001b[36m0:00:00\u001b[0m\n",
            "\u001b[2K   \u001b[90m━━━━━━━━━━━━━━━━━━━━━━━━━━━━━━━━━━━━━━━━\u001b[0m \u001b[32m86.8/86.8 kB\u001b[0m \u001b[31m6.3 MB/s\u001b[0m eta \u001b[36m0:00:00\u001b[0m\n",
            "\u001b[2K   \u001b[90m━━━━━━━━━━━━━━━━━━━━━━━━━━━━━━━━━━━━━━━━\u001b[0m \u001b[32m208.1/208.1 kB\u001b[0m \u001b[31m14.6 MB/s\u001b[0m eta \u001b[36m0:00:00\u001b[0m\n",
            "\u001b[2K   \u001b[90m━━━━━━━━━━━━━━━━━━━━━━━━━━━━━━━━━━━━━━━━\u001b[0m \u001b[32m98.7/98.7 kB\u001b[0m \u001b[31m6.5 MB/s\u001b[0m eta \u001b[36m0:00:00\u001b[0m\n",
            "\u001b[2K   \u001b[90m━━━━━━━━━━━━━━━━━━━━━━━━━━━━━━━━━━━━━━━━\u001b[0m \u001b[32m266.4/266.4 kB\u001b[0m \u001b[31m18.6 MB/s\u001b[0m eta \u001b[36m0:00:00\u001b[0m\n",
            "\u001b[2K   \u001b[90m━━━━━━━━━━━━━━━━━━━━━━━━━━━━━━━━━━━━━━━━\u001b[0m \u001b[32m78.6/78.6 kB\u001b[0m \u001b[31m6.3 MB/s\u001b[0m eta \u001b[36m0:00:00\u001b[0m\n",
            "\u001b[2K   \u001b[90m━━━━━━━━━━━━━━━━━━━━━━━━━━━━━━━━━━━━━━━━\u001b[0m \u001b[32m2.8/2.8 MB\u001b[0m \u001b[31m70.8 MB/s\u001b[0m eta \u001b[36m0:00:00\u001b[0m\n",
            "\u001b[2K   \u001b[90m━━━━━━━━━━━━━━━━━━━━━━━━━━━━━━━━━━━━━━━━\u001b[0m \u001b[32m294.6/294.6 kB\u001b[0m \u001b[31m20.2 MB/s\u001b[0m eta \u001b[36m0:00:00\u001b[0m\n",
            "\u001b[2K   \u001b[90m━━━━━━━━━━━━━━━━━━━━━━━━━━━━━━━━━━━━━━━━\u001b[0m \u001b[32m57.5/57.5 kB\u001b[0m \u001b[31m4.5 MB/s\u001b[0m eta \u001b[36m0:00:00\u001b[0m\n",
            "\u001b[?25h  Building wheel for docx2txt (setup.py) ... \u001b[?25l\u001b[?25hdone\n",
            "  Building wheel for pypika (pyproject.toml) ... \u001b[?25l\u001b[?25hdone\n",
            "\u001b[31mERROR: pip's dependency resolver does not currently take into account all the packages that are installed. This behaviour is the source of the following dependency conflicts.\n",
            "llama-index-core 0.11.20 requires tenacity!=8.4.0,<9.0.0,>=8.2.0, but you have tenacity 9.0.0 which is incompatible.\n",
            "llama-index-legacy 0.9.48.post3 requires tenacity<9.0.0,>=8.2.0, but you have tenacity 9.0.0 which is incompatible.\n",
            "llama-index-readers-file 0.2.2 requires pypdf<5.0.0,>=4.0.1, but you have pypdf 5.0.1 which is incompatible.\n",
            "tensorflow-metadata 1.16.1 requires protobuf<4.21,>=3.20.3; python_version < \"3.11\", but you have protobuf 4.25.5 which is incompatible.\u001b[0m\u001b[31m\n",
            "\u001b[0m"
          ]
        }
      ]
    },
    {
      "cell_type": "markdown",
      "source": [
        "## Create the Crew"
      ],
      "metadata": {
        "id": "tyrHj9jr16AA"
      }
    },
    {
      "cell_type": "code",
      "source": [
        "import os\n",
        "from crewai import Agent, Task, Crew, Process\n",
        "from IPython.display import Markdown\n",
        "from langchain_openai import ChatOpenAI\n",
        "from langchain.tools import DuckDuckGoSearchRun\n",
        "\n",
        "# Set up the LLM\n",
        "llm = ChatOpenAI(temperature=0.1, model=\"gpt-4o-mini\")\n",
        "\n",
        "# Set up tools\n",
        "search_tool = DuckDuckGoSearchRun()\n",
        "\n",
        "# Define your agents with roles and goals\n",
        "researcher = Agent(\n",
        "  role='Researcher',\n",
        "  goal='Uncover cutting-edge developments in AI and data science',\n",
        "  backstory=\"\"\"You work at a leading tech think tank.\n",
        "  Your expertise lies in identifying emerging trends.\n",
        "  You have a knack for dissecting complex data and presenting\n",
        "  actionable insights.\"\"\",\n",
        "  verbose=True,\n",
        "  allow_delegation=False,\n",
        "  llm = llm,\n",
        "  tools=[\n",
        "        search_tool\n",
        "      ]\n",
        ")\n",
        "\n",
        "writer = Agent(\n",
        "  role='AI Technical editor',\n",
        "  goal='Craft compelling content on tech advancements',\n",
        "  backstory=\"\"\"\n",
        "  You are a AI technical editor with 5+ years of experience\n",
        "  \"\"\",\n",
        "  verbose=True,\n",
        "  allow_delegation=False,\n",
        "  llm = llm,\n",
        "  tools=[]\n",
        ")\n",
        "\n",
        "# Create tasks for your agents\n",
        "task1 = Task(\n",
        "  description=\"\"\"Conduct a comprehensive analysis of the latest advancements in AI in 2024.\n",
        "  Identify key trends, breakthrough technologies, and potential industry impacts.\n",
        "  \"\"\",\n",
        "  agent=researcher,\n",
        "  expected_output=\"Research data for advancement in AI in 2024\"\n",
        ")\n",
        "\n",
        "task2 = Task(\n",
        "  description=\"\"\"You have to write a technical blog post for latest advancements in AI in 2024\"\"\",\n",
        "  agent=writer,\n",
        "  expected_output=\"A technical blog post for recent advancement in AI in 2024\"\n",
        ")\n",
        "\n",
        "# Instantiate your crew with a sequential process\n",
        "crew = Crew(\n",
        "  agents=[researcher, writer],\n",
        "  tasks=[task1, task2],\n",
        "  verbose=True\n",
        ")\n",
        "\n",
        "# Get your crew to work!\n",
        "result = crew.kickoff()\n",
        "\n",
        "# output\n",
        "Markdown(str(result))"
      ],
      "metadata": {
        "id": "9ZG9GxqWV0md",
        "colab": {
          "base_uri": "https://localhost:8080/",
          "height": 1000
        },
        "outputId": "3fa28e8a-0583-4412-c282-9ed2cda1b82d"
      },
      "execution_count": null,
      "outputs": [
        {
          "output_type": "stream",
          "name": "stdout",
          "text": [
            "\u001b[1m\u001b[95m# Agent:\u001b[00m \u001b[1m\u001b[92mResearcher\u001b[00m\n",
            "\u001b[95m## Task:\u001b[00m \u001b[92mConduct a comprehensive analysis of the latest advancements in AI in 2024.\n",
            "  Identify key trends, breakthrough technologies, and potential industry impacts.\n",
            "  \u001b[00m\n",
            "\n",
            "\n",
            "\u001b[1m\u001b[95m# Agent:\u001b[00m \u001b[1m\u001b[92mResearcher\u001b[00m\n",
            "\u001b[95m## Thought:\u001b[00m \u001b[92mI need to gather information on the latest advancements in AI for 2024, including key trends, breakthrough technologies, and potential industry impacts.\u001b[00m\n",
            "\u001b[95m## Using tool:\u001b[00m \u001b[92mduckduckgo_search\u001b[00m\n",
            "\u001b[95m## Tool Input:\u001b[00m \u001b[92m\n",
            "\"{\\\"name\\\": \\\"duckduckgo_search\\\", \\\"description\\\": \\\"A wrapper around DuckDuckGo Search. Useful for when you need to answer questions about current events. Input should be a search query.\\\", \\\"args_schema\\\": null, \\\"return_direct\\\": false, \\\"verbose\\\": false, \\\"tags\\\": null, \\\"metadata\\\": null, \\\"handle_tool_error\\\": false, \\\"handle_validation_error\\\": false, \\\"response_format\\\": \\\"content\\\", \\\"api_wrapper\\\": null}\"\u001b[00m\n",
            "\u001b[95m## Tool Output:\u001b[00m \u001b[92m\n",
            "Error: the Action Input is not a valid key, value dictionary.\u001b[00m\n",
            "\n",
            "\n",
            "\u001b[1m\u001b[95m# Agent:\u001b[00m \u001b[1m\u001b[92mResearcher\u001b[00m\n",
            "\u001b[95m## Thought:\u001b[00m \u001b[92mThought: I need to formulate a proper search query to find information on the latest advancements in AI for 2024.\u001b[00m\n",
            "\u001b[95m## Using tool:\u001b[00m \u001b[92mduckduckgo_search\u001b[00m\n",
            "\u001b[95m## Tool Input:\u001b[00m \u001b[92m\n",
            "\"{\\\"query\\\": \\\"latest advancements in AI 2024 trends technologies industry impacts\\\"}\"\u001b[00m\n",
            "\u001b[95m## Tool Output:\u001b[00m \u001b[92m\n",
            "AI is expected to see an annual growth rate of 36.6% from 2023 to 2030. AI continues to revolutionize various industries, with an expected annual growth rate of 36.6% between 2023 and 2030, as ... In 2024, generative AI might actually become useful for the regular, non-tech person, and we are going to see more people tinkering with a million little AI models. State-of-the-art AI models ... If 2023 was the year the world discovered generative AI (gen AI), 2024 is the year organizations truly began using—and deriving business value from—this new technology.In the latest McKinsey Global Survey on AI, 65 percent of respondents report that their organizations are regularly using gen AI, nearly double the percentage from our previous survey just ten months ago. Founded at the Massachusetts Institute of Technology in 1899, MIT Technology Review is a world-renowned, independent media company whose insight, analysis, reviews, interviews and live events ... Here are the top 10 AI trends that will boost the productivity of companies in 2024: While autonomous chatbots are already a reality, new technologies and smarter algorithms point toward better AI agents that allow for more efficient customer service and shorter response times.\u001b[00m\n",
            "\n",
            "\n",
            "\u001b[1m\u001b[95m# Agent:\u001b[00m \u001b[1m\u001b[92mResearcher\u001b[00m\n",
            "\u001b[95m## Final Answer:\u001b[00m \u001b[92m\n",
            "In 2024, the field of artificial intelligence (AI) is poised for significant advancements, driven by a variety of emerging trends and breakthrough technologies. Here are the key highlights:\n",
            "\n",
            "1. **Growth Rate**: The AI industry is expected to experience an annual growth rate of 36.6% from 2023 to 2030. This rapid growth indicates a strong demand for AI solutions across various sectors.\n",
            "\n",
            "2. **Generative AI**: Following the explosive interest in generative AI in 2023, 2024 is anticipated to be the year when organizations begin to leverage this technology for practical applications. Generative AI tools are expected to become more user-friendly, allowing non-technical users to create and manipulate AI models effectively.\n",
            "\n",
            "3. **Widespread Adoption**: According to the latest McKinsey Global Survey on AI, 65% of organizations report regular use of generative AI, nearly doubling the percentage from the previous year. This indicates a significant shift in how businesses are integrating AI into their operations.\n",
            "\n",
            "4. **Enhanced Customer Service**: The development of autonomous chatbots and smarter algorithms is expected to improve customer service efficiency. These advancements will lead to shorter response times and more effective interactions between businesses and their customers.\n",
            "\n",
            "5. **AI in Various Industries**: AI is set to revolutionize multiple industries, including healthcare, finance, and manufacturing. Companies are increasingly adopting AI-driven solutions to enhance productivity, streamline operations, and improve decision-making processes.\n",
            "\n",
            "6. **Tinkering with AI Models**: As generative AI becomes more accessible, there will be an increase in individuals and organizations experimenting with various AI models. This trend will foster innovation and creativity in the development of new AI applications.\n",
            "\n",
            "7. **Focus on Business Value**: Organizations are expected to focus on deriving tangible business value from AI technologies. This includes optimizing processes, reducing costs, and enhancing customer experiences through AI-driven insights.\n",
            "\n",
            "In summary, 2024 is shaping up to be a pivotal year for AI, characterized by rapid growth, widespread adoption of generative AI, and significant advancements in customer service technologies. As businesses continue to explore the potential of AI, the industry is likely to witness transformative changes that will redefine how organizations operate and interact with their customers.\u001b[00m\n",
            "\n",
            "\n",
            "\u001b[1m\u001b[95m# Agent:\u001b[00m \u001b[1m\u001b[92mAI Technical editor\u001b[00m\n",
            "\u001b[95m## Task:\u001b[00m \u001b[92mYou have to write a technical blog post for latest advancements in AI in 2024\u001b[00m\n",
            "\n",
            "\n",
            "\u001b[1m\u001b[95m# Agent:\u001b[00m \u001b[1m\u001b[92mAI Technical editor\u001b[00m\n",
            "\u001b[95m## Final Answer:\u001b[00m \u001b[92m\n",
            "# The Future of AI: Key Advancements in 2024\n",
            "\n",
            "As we step into 2024, the landscape of artificial intelligence (AI) is undergoing transformative changes that promise to reshape industries and redefine the way we interact with technology. With an impressive annual growth rate projected at 36.6% from 2023 to 2030, the demand for AI solutions is surging across various sectors. This blog post delves into the latest advancements in AI, highlighting the trends and technologies that are set to dominate this year.\n",
            "\n",
            "## 1. The Rise of Generative AI\n",
            "\n",
            "Following the explosive interest in generative AI in 2023, 2024 is anticipated to be the year organizations fully harness this technology for practical applications. Generative AI tools are evolving to become more user-friendly, enabling non-technical users to create and manipulate AI models with ease. This democratization of AI technology is expected to lead to a surge in innovative applications, as individuals and businesses alike experiment with generative models to solve real-world problems.\n",
            "\n",
            "## 2. Widespread Adoption Across Industries\n",
            "\n",
            "According to the latest McKinsey Global Survey on AI, a staggering 65% of organizations report regular use of generative AI, nearly doubling the percentage from the previous year. This significant shift indicates that businesses are increasingly integrating AI into their operations, recognizing its potential to enhance productivity and streamline processes. Industries such as healthcare, finance, and manufacturing are at the forefront of this adoption, leveraging AI-driven solutions to improve decision-making and operational efficiency.\n",
            "\n",
            "## 3. Enhanced Customer Service through AI\n",
            "\n",
            "One of the most notable advancements in AI is the development of autonomous chatbots and smarter algorithms that are set to revolutionize customer service. These technologies promise to improve efficiency by reducing response times and facilitating more effective interactions between businesses and their customers. As organizations implement these AI-driven customer service solutions, we can expect a marked improvement in customer satisfaction and engagement.\n",
            "\n",
            "## 4. Tinkering with AI Models\n",
            "\n",
            "As generative AI becomes more accessible, there is a growing trend of individuals and organizations experimenting with various AI models. This \"tinkering\" culture fosters innovation and creativity, leading to the development of new AI applications that can address unique challenges across different sectors. The ability to customize and adapt AI models will empower users to create tailored solutions that meet specific business needs.\n",
            "\n",
            "## 5. Focus on Business Value\n",
            "\n",
            "In 2024, organizations are expected to prioritize deriving tangible business value from AI technologies. This focus includes optimizing processes, reducing operational costs, and enhancing customer experiences through AI-driven insights. By aligning AI initiatives with business objectives, companies can ensure that their investments in AI yield measurable returns and contribute to long-term success.\n",
            "\n",
            "## Conclusion\n",
            "\n",
            "As we navigate through 2024, the advancements in AI are set to create a pivotal year for the industry. With rapid growth, widespread adoption of generative AI, and significant improvements in customer service technologies, businesses are poised to explore the vast potential of AI. The transformative changes that lie ahead will not only redefine how organizations operate but also enhance the way they interact with their customers, paving the way for a more efficient and innovative future.\n",
            "\n",
            "In summary, the advancements in AI in 2024 are characterized by a strong emphasis on practical applications, user accessibility, and a focus on delivering business value. As we continue to witness these developments, it is clear that AI will play an increasingly integral role in shaping the future of various industries.\u001b[00m\n",
            "\n",
            "\n"
          ]
        },
        {
          "output_type": "execute_result",
          "data": {
            "text/plain": [
              "<IPython.core.display.Markdown object>"
            ],
            "text/markdown": "# The Future of AI: Key Advancements in 2024\n\nAs we step into 2024, the landscape of artificial intelligence (AI) is undergoing transformative changes that promise to reshape industries and redefine the way we interact with technology. With an impressive annual growth rate projected at 36.6% from 2023 to 2030, the demand for AI solutions is surging across various sectors. This blog post delves into the latest advancements in AI, highlighting the trends and technologies that are set to dominate this year.\n\n## 1. The Rise of Generative AI\n\nFollowing the explosive interest in generative AI in 2023, 2024 is anticipated to be the year organizations fully harness this technology for practical applications. Generative AI tools are evolving to become more user-friendly, enabling non-technical users to create and manipulate AI models with ease. This democratization of AI technology is expected to lead to a surge in innovative applications, as individuals and businesses alike experiment with generative models to solve real-world problems.\n\n## 2. Widespread Adoption Across Industries\n\nAccording to the latest McKinsey Global Survey on AI, a staggering 65% of organizations report regular use of generative AI, nearly doubling the percentage from the previous year. This significant shift indicates that businesses are increasingly integrating AI into their operations, recognizing its potential to enhance productivity and streamline processes. Industries such as healthcare, finance, and manufacturing are at the forefront of this adoption, leveraging AI-driven solutions to improve decision-making and operational efficiency.\n\n## 3. Enhanced Customer Service through AI\n\nOne of the most notable advancements in AI is the development of autonomous chatbots and smarter algorithms that are set to revolutionize customer service. These technologies promise to improve efficiency by reducing response times and facilitating more effective interactions between businesses and their customers. As organizations implement these AI-driven customer service solutions, we can expect a marked improvement in customer satisfaction and engagement.\n\n## 4. Tinkering with AI Models\n\nAs generative AI becomes more accessible, there is a growing trend of individuals and organizations experimenting with various AI models. This \"tinkering\" culture fosters innovation and creativity, leading to the development of new AI applications that can address unique challenges across different sectors. The ability to customize and adapt AI models will empower users to create tailored solutions that meet specific business needs.\n\n## 5. Focus on Business Value\n\nIn 2024, organizations are expected to prioritize deriving tangible business value from AI technologies. This focus includes optimizing processes, reducing operational costs, and enhancing customer experiences through AI-driven insights. By aligning AI initiatives with business objectives, companies can ensure that their investments in AI yield measurable returns and contribute to long-term success.\n\n## Conclusion\n\nAs we navigate through 2024, the advancements in AI are set to create a pivotal year for the industry. With rapid growth, widespread adoption of generative AI, and significant improvements in customer service technologies, businesses are poised to explore the vast potential of AI. The transformative changes that lie ahead will not only redefine how organizations operate but also enhance the way they interact with their customers, paving the way for a more efficient and innovative future.\n\nIn summary, the advancements in AI in 2024 are characterized by a strong emphasis on practical applications, user accessibility, and a focus on delivering business value. As we continue to witness these developments, it is clear that AI will play an increasingly integral role in shaping the future of various industries."
          },
          "metadata": {},
          "execution_count": 9
        }
      ]
    },
    {
      "cell_type": "code",
      "source": [],
      "metadata": {
        "id": "bsW9oB2A1_G7"
      },
      "execution_count": null,
      "outputs": []
    }
  ],
  "metadata": {
    "colab": {
      "provenance": [],
      "include_colab_link": true
    },
    "kernelspec": {
      "display_name": "Python 3 (ipykernel)",
      "language": "python",
      "name": "python3"
    },
    "language_info": {
      "codemirror_mode": {
        "name": "ipython",
        "version": 3
      },
      "file_extension": ".py",
      "mimetype": "text/x-python",
      "name": "python",
      "nbconvert_exporter": "python",
      "pygments_lexer": "ipython3"
    }
  },
  "nbformat": 4,
  "nbformat_minor": 0
}
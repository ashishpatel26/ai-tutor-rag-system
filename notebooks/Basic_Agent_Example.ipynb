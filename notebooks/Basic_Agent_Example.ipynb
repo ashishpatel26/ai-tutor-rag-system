{
  "nbformat": 4,
  "nbformat_minor": 0,
  "metadata": {
    "colab": {
      "provenance": [],
      "include_colab_link": true
    },
    "kernelspec": {
      "name": "python3",
      "display_name": "Python 3"
    },
    "language_info": {
      "name": "python"
    }
  },
  "cells": [
    {
      "cell_type": "markdown",
      "metadata": {
        "id": "view-in-github",
        "colab_type": "text"
      },
      "source": [
        "<a href=\"https://colab.research.google.com/github/towardsai/ai-tutor-rag-system/blob/notebook%2Faman/notebooks/Basic_Agent_Example.ipynb\" target=\"_parent\"><img src=\"https://colab.research.google.com/assets/colab-badge.svg\" alt=\"Open In Colab\"/></a>"
      ]
    },
    {
      "cell_type": "markdown",
      "source": [
        "## Install requirements"
      ],
      "metadata": {
        "id": "-FwCJOqEQJUB"
      }
    },
    {
      "cell_type": "code",
      "source": [
        "pip install -U duckduckgo_search openai==1.51.0 --quiet"
      ],
      "metadata": {
        "id": "kfJYlxFVgJir"
      },
      "execution_count": null,
      "outputs": []
    },
    {
      "cell_type": "markdown",
      "source": [
        "## Setup Enviornment variables"
      ],
      "metadata": {
        "id": "CDKt6U0JmiOY"
      }
    },
    {
      "cell_type": "code",
      "source": [
        "import getpass\n",
        "import os\n",
        "\n",
        "os.environ[\"OPENAI_API_KEY\"] = \"<OPENAI_API_KEY>\""
      ],
      "metadata": {
        "id": "p0QOcu-OYKw0",
        "colab": {
          "base_uri": "https://localhost:8080/"
        },
        "outputId": "fd4abce0-55cf-4ce2-f6ba-1d1b5c761f23"
      },
      "execution_count": null,
      "outputs": [
        {
          "name": "stdout",
          "output_type": "stream",
          "text": [
            "Enter your OPENAI API key: ··········\n"
          ]
        }
      ]
    },
    {
      "cell_type": "markdown",
      "source": [
        "## Setting Up Tools"
      ],
      "metadata": {
        "id": "aEu_qYO4ghI3"
      }
    },
    {
      "cell_type": "code",
      "source": [
        "from duckduckgo_search import DDGS\n",
        "\n",
        "def search(query):\n",
        "    \"\"\"\n",
        "    perform a search on for the given query and return the results\n",
        "    :param query: the query to search for\n",
        "    :return: the search results\n",
        "    \"\"\"\n",
        "    response = DDGS().text(query, max_results=5)\n",
        "    results = [\n",
        "        {\"snippet\": r[\"body\"], \"title\": r[\"title\"], \"link\": r[\"href\"]}\n",
        "        for r in response\n",
        "    ]\n",
        "\n",
        "    formatted_results = \"\"\n",
        "    for result in results:\n",
        "        formatted_results += f\"Title: {result['title']}\\n\"\n",
        "        formatted_results += f\"Snippet: {result['snippet']}\\n\"\n",
        "        formatted_results += \"----\\n\"\n",
        "\n",
        "    return formatted_results\n"
      ],
      "metadata": {
        "id": "-hrcnzMEiPBx"
      },
      "execution_count": null,
      "outputs": []
    },
    {
      "cell_type": "code",
      "source": [
        "def evaluate_expression(operation: str) -> float:\n",
        "    \"\"\"\n",
        "    perform a calculation on the given operation and return the result\n",
        "    :param operation: the operation to perform, should be compatible to use with eval eg: operation: \"1+2\"\n",
        "    :return: the result of the operation\n",
        "    \"\"\"\n",
        "    return eval(operation)"
      ],
      "metadata": {
        "id": "7g6kAKbIsP6p"
      },
      "execution_count": null,
      "outputs": []
    },
    {
      "cell_type": "code",
      "source": [
        "print(search(\"llama index\"))"
      ],
      "metadata": {
        "colab": {
          "base_uri": "https://localhost:8080/"
        },
        "id": "kzmjpvaBiARo",
        "outputId": "0099e5a1-fc57-4b04-e768-587abf75eb47"
      },
      "execution_count": null,
      "outputs": [
        {
          "output_type": "stream",
          "name": "stdout",
          "text": [
            "Title: LlamaIndex Newsletter 2024-10-22\n",
            "Snippet: VividNode, a cross-platform desktop app that enables chatting with models like GPT, Claude, Gemini, and Llama. It features a chat interface, image generation capabilities with DALL-E 3, and advanced settings for privacy and convenience, all integrated with LlamaIndex. Github Repo, Tweet.\n",
            "----\n",
            "Title: Which Tools to Use for LLM-Powered Applications: LangChain vs ...\n",
            "Snippet: In this section, you'll learn how to use LlamaIndex to create a queryable index from a collection of documents and interact with OpenAI's API for querying purposes. This is the code to do this: pip install llama-index %env OPENAI_API_KEY = \"your-api-key\" from llama_index.core import VectorStoreIndex, SimpleDirectoryReader\n",
            "----\n",
            "Title: Unleashing the Power of Gemini With LlamaIndex - DZone\n",
            "Snippet: pip install -q llama-index google-generativeai pip install llama-index-llms-gemini pip install llama-index-embeddings-gemini. Next, import the required modules from LlamaIndex: Python\n",
            "----\n",
            "Title: Gen AI - LLM RAG Two in One - LangChain + LlamaIndex - Udemy\n",
            "Snippet: Gen AI - Learn to develop RAG Applications using LangChain an LlamaIndex Frameworks using LLMs and Vector Databases\n",
            "----\n",
            "Title: Implementation of REAcT Agent using LlamaIndex and Gemini\n",
            "Snippet: !pip install llama-index !pip install duckduckgo-search !pip install llama-index-llms-gemini. First, we need to import the necessary components. Since the ReAct agent needs to interact with external tools to fetch data, we can achieve this using the Function Tool, which is defined within the LlamaIndex core tools.\n",
            "----\n",
            "\n"
          ]
        }
      ]
    },
    {
      "cell_type": "markdown",
      "source": [
        "## Creating Agent"
      ],
      "metadata": {
        "id": "MiLV8jjioV7U"
      }
    },
    {
      "cell_type": "code",
      "source": [
        "import re\n",
        "from openai import OpenAI\n",
        "\n",
        "class Agent:\n",
        "    def __init__(self, client: OpenAI, tools):\n",
        "        \"\"\"\n",
        "        Initialize the Agent class.\n",
        "\n",
        "        Args:\n",
        "        client (OpenAI): The OpenAI client instance.\n",
        "        tools (list): A list of tool functions.\n",
        "        \"\"\"\n",
        "        self.client = client\n",
        "        self.tools = tools\n",
        "        self.memory = []\n",
        "\n",
        "    def get_agent_prompt(self) -> str:\n",
        "        \"\"\"\n",
        "        Generate the agent prompt string.\n",
        "\n",
        "        Returns:\n",
        "        str: The agent prompt string.\n",
        "        \"\"\"\n",
        "        tools_str = \"\\n\".join(\n",
        "            [f\"Action:{tool.__name__}\\nAction Input:{tool.__doc__} \\n\" for tool in self.tools]\n",
        "        )\n",
        "        system_prompt = f\"\"\"\n",
        "        You run in a loop of Thought, Action, Observation.\n",
        "        At the end of the loop you output an Answer\n",
        "        Use Thought to describe your thoughts about the question you have been asked.\n",
        "        Use Action to run one of the actions available to you.\n",
        "        Observation will be the result of running those actions.\n",
        "\n",
        "        Your available actions are:\n",
        "          {tools_str}\n",
        "\n",
        "        Try to break the search query into multiple query for good results\n",
        "\n",
        "        Always return in this format\n",
        "        Question: the question\n",
        "        Thought: your thoughts about the question\n",
        "        Action: tool_name: the input to the action\n",
        "\n",
        "        Example session:\n",
        "        Question: New York is in which country?\n",
        "        Thought: I should search for new york in web\n",
        "        Action: search: new york\n",
        "\n",
        "        You will be called again with this:\n",
        "\n",
        "        Observation: New york is a city in the United States of America.\n",
        "\n",
        "        You then output:\n",
        "        Final Answer: New York is in the United States of America.\n",
        "        \"\"\"\n",
        "        return system_prompt\n",
        "\n",
        "    def add_agent_steps_in_memory(self, role: str, content: str) -> None:\n",
        "        \"\"\"\n",
        "        Add agent steps to memory.\n",
        "\n",
        "        Args:\n",
        "        role (str): The role of the agent step.\n",
        "        content (str): The content of the agent step.\n",
        "        \"\"\"\n",
        "        self.memory.append({\"role\": role, \"content\": content})\n",
        "\n",
        "    def invoke(self, user_input: str, max_iterations: int = 10) -> str:\n",
        "        \"\"\"\n",
        "        Invoke the agent.\n",
        "\n",
        "        Args:\n",
        "        user_input (str): The user input string.\n",
        "        max_iterations (int): The maximum number of iterations.\n",
        "\n",
        "        Returns:\n",
        "        str: The final answer.\n",
        "        \"\"\"\n",
        "        i = 0\n",
        "        self.add_agent_steps_in_memory(\"system\", self.get_agent_prompt())\n",
        "        current_message = user_input\n",
        "        tool_names = [tool.__name__ for tool in self.tools]\n",
        "\n",
        "        while i < max_iterations:\n",
        "            print(f\"Iteration: {i+1}\")\n",
        "            i += 1\n",
        "            self.add_agent_steps_in_memory(\"user\", current_message)\n",
        "            result = self.client.chat.completions.create(\n",
        "                messages=self.memory,\n",
        "                model=\"gpt-4o\",\n",
        "                temperature=0.2\n",
        "            )\n",
        "            agent_output = result.choices[0].message.content\n",
        "            print(agent_output)\n",
        "            self.add_agent_steps_in_memory(\"assistant\", agent_output)\n",
        "\n",
        "            if \"Action\" in agent_output:\n",
        "                action = re.findall(r\"Action: ([a-z_]+): (.+)\", agent_output, re.IGNORECASE)\n",
        "                print(action)\n",
        "                chosen_tool = action[0][0]\n",
        "                arg = action[0][1]\n",
        "\n",
        "                if chosen_tool in tool_names:\n",
        "                    result_tool = eval(f\"{chosen_tool}('{arg}')\")\n",
        "                    current_message = f\"Observation:\\n {result_tool}\"\n",
        "                    print(f\"chosen tool: {chosen_tool}\")\n",
        "                    print(f\"arg: {arg}\")\n",
        "                    print(current_message)\n",
        "                else:\n",
        "                    current_message = \"Observation: Tool not found\"\n",
        "                continue\n",
        "\n",
        "            print(\"----------------------------------------------------------\")\n",
        "\n",
        "            if \"Final Answer\" in agent_output:\n",
        "                return agent_output"
      ],
      "metadata": {
        "id": "jk3TxbcJnnKq"
      },
      "execution_count": null,
      "outputs": []
    },
    {
      "cell_type": "code",
      "source": [
        "client = OpenAI(api_key = os.environ[\"OPENAI_API_KEY\"])\n",
        "tools = [search, evaluate_expression]\n",
        "agent = Agent(client, tools)\n",
        "output = agent.invoke(\"what is differnce between stock price of microsoft and nvidia in 2024? Which has higher stock price?\")\n",
        "print(f\"Final Output-> {output}\")"
      ],
      "metadata": {
        "colab": {
          "base_uri": "https://localhost:8080/"
        },
        "id": "nc6Zqqjuwqqz",
        "outputId": "cd5257ee-316e-449f-a95c-be30a10d605c"
      },
      "execution_count": null,
      "outputs": [
        {
          "output_type": "stream",
          "name": "stdout",
          "text": [
            "Iteration: 1\n",
            "Question: what is difference between stock price of microsoft and nvidia in 2024? Which has higher stock price?\n",
            "Thought: I need to search for the stock prices of Microsoft and Nvidia in 2024 to determine the difference and which one is higher.\n",
            "Action: search: Microsoft stock price 2024\n",
            "\n",
            "\n",
            "[('search', 'Microsoft stock price 2024')]\n",
            "chosen tool: search\n",
            "arg: Microsoft stock price 2024\n",
            "Observation:\n",
            " Title: Microsoft (MSFT) Stock Forecast and Price Target 2024 - MarketBeat\n",
            "Snippet: Microsoft - Analysts' Recommendations and Stock Price Forecast (2024) How MarketBeat Calculates Price Target and Consensus Rating. ... According to the research reports of 31 Wall Street equities research analysts, the average twelve-month stock price forecast for Microsoft is $495.68, with a high forecast of $600.00 and a low forecast of $375. ...\n",
            "----\n",
            "Title: Microsoft Stock Forecast 2025-2030 | Is MSFT a Good Buy? - Techopedia\n",
            "Snippet: Their consensus one-year Microsoft (MSFT) stock forecast for 2024/2025 is for the price to rise 18.67% to $493.47. The highest projection is $600.00, while the lowest estimate warns of a drop to $375. However, others are more optimistic. A consensus MSFT price target from analyst views compiled by TipRanks puts the stock as a 'strong buy ...\n",
            "----\n",
            "Title: Where Will Microsoft Stock Be in 3 Years? | The Motley Fool\n",
            "Snippet: Current Price. $418.16. Price as of October 18, 2024, 4:00 p.m. ET. Microsoft's AI-powered growth should help the stock regain its mojo following a disappointing 2024. Shares of Microsoft (MSFT 0. ...\n",
            "----\n",
            "Title: Microsoft Corporation (MSFT) Stock Forecast & Price Targets - Stock ...\n",
            "Snippet: The 33 analysts with 12-month price forecasts for Microsoft stock have an average target of 494.73, with a low estimate of 375 and a high estimate of 600. The average target predicts an increase of 18.14% from the current stock price of 418.78. ... FY 2024 FY 2025 FY 2026 FY 2027 FY 2028 FY 2029 ; Period Ending Jun 30, 2020 Jun 30, 2021 Jun 30 ...\n",
            "----\n",
            "Title: What is the current Price Target and Forecast for Microsoft (MSFT)\n",
            "Snippet: The forecasts for Microsoft Corporation (MSFT) range from a low of $448 to a high of $600. The average price target represents a increase of $20.35 from the last closing price of $418.16. The ...\n",
            "----\n",
            "\n",
            "Iteration: 2\n",
            "Action: search: Nvidia stock price 2024\n",
            "[('search', 'Nvidia stock price 2024')]\n",
            "chosen tool: search\n",
            "arg: Nvidia stock price 2024\n",
            "Observation:\n",
            " Title: NVIDIA (NVDA) Stock Forecast and Price Target 2024 - MarketBeat\n",
            "Snippet: What is NVIDIA's forecast for 2024? According to the research reports of 43 Wall Street equities research analysts, the average twelve-month stock price forecast for NVIDIA is $143.07, with a high forecast of $200.00 and a low forecast of $65.00.\n",
            "----\n",
            "Title: Where Will Nvidia Stock Be in 5 Years? | The Motley Fool\n",
            "Snippet: Nvidia's stock price slump seems to have ended in the near term, with shares regaining momentum. ... Price as of October 22, 2024, 4:00 p.m. ET. The iconic chipmaker is once again testing its all ...\n",
            "----\n",
            "Title: Nvidia Stock Gets Bullish Upgrades on Blackwell, Enterprise ...\n",
            "Snippet: Wall Street keeps raising price targets for sky-high Nvidia stock. Here's why analysts are still so bullish. ... 2024-10-21T19:47:22Z Jennifer Sor. An curved arrow pointing right. Share. The ...\n",
            "----\n",
            "Title: Nvidia Stock Price Prediction: 2024, 2025, 2030 - Benzinga\n",
            "Snippet: Explore expert predictions for Nvidia's stock price in 2024, 2025 and 2030, with insights on market trends, AI growth, and future valuations.\n",
            "----\n",
            "Title: NVDA - Nvidia Corp Stock Price Forecast 2024, 2025, 2030 to 2050\n",
            "Snippet: Nvidia Corp Stock (NVDA) Price Forecast for 2025. Nvidia Corp Stock (NVDA) is expected to reach an average price of $ 3,887.16 in 2025, with a high prediction of $ 5,231.05 and a low estimate of $ 2,543.27. This indicates an +2716.78% rise from the last recorded price of $ 138.00. Month.\n",
            "----\n",
            "\n",
            "Iteration: 3\n",
            "Thought: I have found the average stock price forecasts for both Microsoft and Nvidia in 2024. Microsoft's average stock price is around $495.68, while Nvidia's average stock price is around $143.07. Now, I can determine the difference and which one has the higher stock price.\n",
            "\n",
            "Action: evaluate_expression: \"495.68 - 143.07\"\n",
            "[('evaluate_expression', '\"495.68 - 143.07\"')]\n",
            "chosen tool: evaluate_expression\n",
            "arg: \"495.68 - 143.07\"\n",
            "Observation:\n",
            " 495.68 - 143.07\n",
            "Iteration: 4\n",
            "Final Answer: The difference between the stock prices of Microsoft and Nvidia in 2024 is $352.61, with Microsoft having the higher stock price.\n",
            "----------------------------------------------------------\n",
            "Final Output-> Final Answer: The difference between the stock prices of Microsoft and Nvidia in 2024 is $352.61, with Microsoft having the higher stock price.\n"
          ]
        }
      ]
    }
  ]
}
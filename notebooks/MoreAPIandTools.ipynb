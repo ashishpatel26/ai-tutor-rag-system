{
  "cells": [
    {
      "cell_type": "markdown",
      "source": [
        "#1. Llamaparse"
      ],
      "metadata": {
        "id": "IP_XthpV2L_s"
      }
    },
    {
      "cell_type": "markdown",
      "metadata": {
        "id": "vV92zrs8ki7E"
      },
      "source": [
        "## Installing Requirements"
      ]
    },
    {
      "cell_type": "code",
      "execution_count": 10,
      "metadata": {
        "id": "pv7jcSZjki7G"
      },
      "outputs": [],
      "source": [
        "!pip install -q llama-index==0.11.16 llama-parse==0.5.7"
      ]
    },
    {
      "cell_type": "markdown",
      "source": [
        "Setting ENV"
      ],
      "metadata": {
        "id": "tyrUr1vumJ3m"
      }
    },
    {
      "cell_type": "code",
      "source": [
        "import os\n",
        "os.environ[\"LLAMA_CLOUD_API_KEY\"] = \"<LLAMA_CLOUD_API_KEY>\"\n",
        "os.environ[\"OPENAI_API_KEY\"] = \"<OPENAI_API_KEY>\""
      ],
      "metadata": {
        "id": "pdugMsvemL7e"
      },
      "execution_count": 11,
      "outputs": []
    },
    {
      "cell_type": "code",
      "source": [
        "import nest_asyncio\n",
        "nest_asyncio.apply()"
      ],
      "metadata": {
        "id": "vq44XKn_p6zi"
      },
      "execution_count": 5,
      "outputs": []
    },
    {
      "cell_type": "markdown",
      "source": [
        "## Downloading the pdf"
      ],
      "metadata": {
        "id": "Hu18SRLAufzt"
      }
    },
    {
      "cell_type": "code",
      "execution_count": 12,
      "metadata": {
        "id": "XaMsc4n7ki7H"
      },
      "outputs": [],
      "source": [
        "# Write python code to download this pdf and store it somewhere\n",
        "import requests\n",
        "\n",
        "quaterly_report_pdf = \"amazon_q1_report_2024.pdf\"\n",
        "response = requests.get(\"https://s2.q4cdn.com/299287126/files/doc_financials/2024/q1/AMZN-Q1-2024-Earnings-Release.pdf\")\n",
        "with open(quaterly_report_pdf, 'wb') as f:\n",
        "    f.write(response.content)\n"
      ]
    },
    {
      "cell_type": "markdown",
      "metadata": {
        "id": "gUXdR0Elki7I"
      },
      "source": [
        "#### Use LlamaParse to parse quaterly report"
      ]
    },
    {
      "cell_type": "code",
      "execution_count": 14,
      "metadata": {
        "id": "QTJZh_JTki7I",
        "outputId": "d3d15ad9-2233-40e1-8cba-6c4581b58a24",
        "colab": {
          "base_uri": "https://localhost:8080/",
          "height": 1000
        }
      },
      "outputs": [
        {
          "output_type": "stream",
          "name": "stdout",
          "text": [
            "Started parsing the file under job_id 90ccb621-b33f-4a63-b5cd-11c9405122a5\n"
          ]
        },
        {
          "output_type": "execute_result",
          "data": {
            "text/plain": [
              "<IPython.core.display.Markdown object>"
            ],
            "text/markdown": "# AMAZON.COM, INC.\n\n# Supplemental Financial Information and Business Metrics\n\n# (in millions, except employee data)\n\n# (unaudited)\n\n| |Q4 2022|Q1 2023|Q2 2023|Q3 2023|Q4 2023|Q1 2024|Y/Y % Change|\n|---|---|---|---|---|---|---|---|\n|Net Sales|$ 64,531|$ 51,096|$ 52,966|$ 57,267|$ 70,543|$ 54,670|7 %|\n|Online stores (1)| | | | | | |2 %|\n|Physical stores (2)|$ 4,957|$ 4,895|$ 5,024|$ 4,959|$ 5,152|$ 5,202|6 %|\n|Third-party seller services (3)|$ 36,339|$ 29,820|$ 32,332|$ 34,342|$ 43,559|$ 34,596|16 %|\n|Advertising services (4)|$ 11,557|$ 9,509|$ 10,683|$ 12,060|$ 14,654|$ 11,824|24 %|\n|Subscription services (5)|$ 9,189|$ 9,657|$ 9,894|$ 10,170|$ 10,488|$ 10,722|11 %|\n|AWS|$ 21,378|$ 21,354|$ 22,140|$ 23,059|$ 24,204|$ 25,037|17 %|\n|Other (6)|$ 1,253|$ 1,027|$ 1,344|$ 1,226|$ 1,361|$ 1,262|23 %|\n\n# Stock-based Compensation Expense\n\n| |Q4 2022|Q1 2023|Q2 2023|Q3 2023|Q4 2023|Q1 2024|Y/Y % Change|\n|---|---|---|---|---|---|---|---|\n|Cost of sales|$ 208|$ 165|$ 251|$ 193|$ 227|$ 174|6 %|\n|Fulfillment|$ 757|$ 603|$ 932|$ 732|$ 823|$ 636|5 %|\n|Technology and infrastructure|$ 3,126|$ 2,574|$ 4,043|$ 3,284|$ 3,533|$ 2,772|8 %|\n|Sales and marketing|$ 1,092|$ 993|$ 1,303|$ 1,111|$ 1,216|$ 932|(6) %|\n|General and administrative|$ 423|$ 413|$ 598|$ 509|$ 520|$ 447|8 %|\n|Total stock-based compensation expense|$ 5,606|$ 4,748|$ 7,127|$ 5,829|$ 6,319|$ 4,961|4 %|\n\n# Other\n\n| |Q4 2022|Q1 2023|Q2 2023|Q3 2023|Q4 2023|Q1 2024|Y/Y % Change|\n|---|---|---|---|---|---|---|---|\n|WW shipping costs|$ 24,714|$ 19,937|$ 20,418|$ 21,799|$ 27,326|$ 21,834|10 %|\n|WW shipping costs -- Y/Y growth| | | | | | |4 %|\n|WW paid units -- Y/Y growth (7)| | | | | | |8 %|\n|WW seller unit mix -- % of WW paid units (7)| | | | | | |59 %|\n|Employees (full-time and part-time; excludes contractors & temporary personnel)|1,541,000|1,465,000|1,461,000|1,500,000|1,525,000|1,521,000|4 %|\n|Employees (full-time and part-time; excludes contractors & temporary personnel) -- Y/Y growth (decline)| | | | | | |(4) %|\n\n# Footnotes\n\n(1) Includes product sales and digital media content where we record revenue gross. We leverage our retail infrastructure to offer a wide selection of consumable and durable goods that includes media products available in both a physical and digital format, such as books, videos, games, music, and software. These product sales include digital products sold on a transactional basis. Digital media content subscriptions that provide unlimited viewing or usage rights are included in “Subscription services.”\n\n(2) Includes product sales where our customers physically select items in a store. Sales to customers who order goods online for delivery or pickup at our physical stores are included in “Online stores.”\n\n(3) Includes commissions and any related fulfillment and shipping fees, and other third-party seller services.\n\n(4) Includes sales of advertising services to sellers, vendors, publishers, authors, and others, through programs such as sponsored ads, display, and video advertising.\n\n(5) Includes annual and monthly fees associated with Amazon Prime memberships, as well as digital video, audiobook, digital music, e-book, and other non-AWS subscription services.\n\n(6) Includes sales related to various other offerings, such as health care services, certain licensing and distribution of video content, and shipping services, and our co-branded credit card agreements.\n\n(7) Excludes the impact of Whole Foods Market."
          },
          "metadata": {},
          "execution_count": 14
        }
      ],
      "source": [
        "from llama_parse import LlamaParse\n",
        "from llama_index.core import SimpleDirectoryReader\n",
        "from IPython.display import Markdown\n",
        "\n",
        "# set up parser\n",
        "parser = LlamaParse(\n",
        "    result_type=\"markdown\"\n",
        ")\n",
        "file_extractor = {\".pdf\": parser}\n",
        "documents = SimpleDirectoryReader(input_files=['amazon_q1_report_2024.pdf'], file_extractor=file_extractor).load_data()\n",
        "Markdown(documents[15].text)"
      ]
    },
    {
      "cell_type": "markdown",
      "source": [
        "# CrewAI"
      ],
      "metadata": {
        "id": "58JjY-Hm2G9Q"
      }
    },
    {
      "cell_type": "markdown",
      "source": [
        "### Install required pacakges\n"
      ],
      "metadata": {
        "id": "HV1DyBd2RHrN"
      }
    },
    {
      "cell_type": "code",
      "source": [
        "!pip install --q crewai duckduckgo-search langchain_openai"
      ],
      "metadata": {
        "id": "xOj-BuKARJrH",
        "colab": {
          "base_uri": "https://localhost:8080/"
        },
        "outputId": "5819b91a-fedc-49ee-cced-0c7231b89cf5"
      },
      "execution_count": 6,
      "outputs": [
        {
          "output_type": "stream",
          "name": "stdout",
          "text": [
            "\u001b[?25l   \u001b[90m━━━━━━━━━━━━━━━━━━━━━━━━━━━━━━━━━━━━━━━━\u001b[0m \u001b[32m0.0/2.8 MB\u001b[0m \u001b[31m?\u001b[0m eta \u001b[36m-:--:--\u001b[0m\r\u001b[2K   \u001b[91m━━━━━━━━\u001b[0m\u001b[90m╺\u001b[0m\u001b[90m━━━━━━━━━━━━━━━━━━━━━━━━━━━━━━━\u001b[0m \u001b[32m0.6/2.8 MB\u001b[0m \u001b[31m17.5 MB/s\u001b[0m eta \u001b[36m0:00:01\u001b[0m\r\u001b[2K   \u001b[91m━━━━━━━━━━━━━━━━━━━━━━━━━━━━━━━━━━━━━━\u001b[0m\u001b[90m╺\u001b[0m\u001b[90m━\u001b[0m \u001b[32m2.7/2.8 MB\u001b[0m \u001b[31m39.1 MB/s\u001b[0m eta \u001b[36m0:00:01\u001b[0m\r\u001b[2K   \u001b[90m━━━━━━━━━━━━━━━━━━━━━━━━━━━━━━━━━━━━━━━━\u001b[0m \u001b[32m2.8/2.8 MB\u001b[0m \u001b[31m26.8 MB/s\u001b[0m eta \u001b[36m0:00:00\u001b[0m\n",
            "\u001b[?25h"
          ]
        }
      ]
    },
    {
      "cell_type": "markdown",
      "source": [
        "## Create the Crew"
      ],
      "metadata": {
        "id": "tyrHj9jr16AA"
      }
    },
    {
      "cell_type": "code",
      "source": [
        "import os\n",
        "from crewai import Agent, Task, Crew, Process\n",
        "from IPython.display import Markdown\n",
        "from langchain_openai import ChatOpenAI\n",
        "from langchain.tools import DuckDuckGoSearchRun\n",
        "\n",
        "# Set up the LLM\n",
        "llm = ChatOpenAI(temperature=0.1, model=\"gpt-4o-mini\")\n",
        "\n",
        "# Set up tools\n",
        "search_tool = DuckDuckGoSearchRun()\n",
        "\n",
        "# Define your agents with roles and goals\n",
        "researcher = Agent(\n",
        "  role='Researcher',\n",
        "  goal='Uncover cutting-edge developments in AI and data science',\n",
        "  backstory=\"\"\"You work at a leading tech think tank.\n",
        "  Your expertise lies in identifying emerging trends.\n",
        "  You have a knack for dissecting complex data and presenting\n",
        "  actionable insights.\"\"\",\n",
        "  verbose=True,\n",
        "  allow_delegation=False,\n",
        "  llm = llm,\n",
        "  tools=[\n",
        "        search_tool\n",
        "      ]\n",
        ")\n",
        "\n",
        "writer = Agent(\n",
        "  role='AI Technical editor',\n",
        "  goal='Craft compelling content on tech advancements',\n",
        "  backstory=\"\"\"\n",
        "  You are a AI technical editor with 5+ years of experience\n",
        "  \"\"\",\n",
        "  verbose=True,\n",
        "  allow_delegation=False,\n",
        "  llm = llm,\n",
        "  tools=[]\n",
        ")\n",
        "\n",
        "# Create tasks for your agents\n",
        "task1 = Task(\n",
        "  description=\"\"\"Conduct a comprehensive analysis of the latest advancements in AI in 2024.\n",
        "  Identify key trends, breakthrough technologies, and potential industry impacts.\n",
        "  you have to write tech blog\"\"\",\n",
        "  agent=researcher,\n",
        "  expected_output=\"Research data for advancement in AI in 2024\"\n",
        ")\n",
        "\n",
        "task2 = Task(\n",
        "  description=\"\"\"You have to write a technical blog post for latest advancements in AI in 2024\"\"\",\n",
        "  agent=researcher,\n",
        "  expected_output=\"A technical blog post for recent advancement in AI in 2024\"\n",
        ")\n",
        "\n",
        "# Instantiate your crew with a sequential process\n",
        "crew = Crew(\n",
        "  agents=[researcher, writer],\n",
        "  tasks=[task1, task2],\n",
        "  verbose=True\n",
        ")\n",
        "\n",
        "# Get your crew to work!\n",
        "result = crew.kickoff()\n",
        "\n",
        "# output\n",
        "Markdown(str(result))"
      ],
      "metadata": {
        "id": "9ZG9GxqWV0md",
        "colab": {
          "base_uri": "https://localhost:8080/",
          "height": 1000
        },
        "outputId": "9860d950-41b9-42ce-f14e-76c272423e5a"
      },
      "execution_count": 7,
      "outputs": [
        {
          "output_type": "stream",
          "name": "stdout",
          "text": [
            "\u001b[1m\u001b[95m# Agent:\u001b[00m \u001b[1m\u001b[92mResearcher\u001b[00m\n",
            "\u001b[95m## Task:\u001b[00m \u001b[92mConduct a comprehensive analysis of the latest advancements in AI in 2024.\n",
            "  Identify key trends, breakthrough technologies, and potential industry impacts.\n",
            "  you have to write tech blog\u001b[00m\n",
            "\u001b[91m \n",
            "\n",
            "I encountered an error while trying to use the tool. This was the error: https://duckduckgo.com/ 202 Ratelimit.\n",
            " Tool duckduckgo_search accepts these inputs: A wrapper around DuckDuckGo Search. Useful for when you need to answer questions about current events. Input should be a search query.\n",
            "\u001b[00m\n",
            "\n",
            "\n",
            "\u001b[1m\u001b[95m# Agent:\u001b[00m \u001b[1m\u001b[92mResearcher\u001b[00m\n",
            "\u001b[95m## Thought:\u001b[00m \u001b[92mI need to gather information on the latest advancements in AI for 2024, including key trends, breakthrough technologies, and potential industry impacts. I'll start by searching for current developments in AI for this year.\u001b[00m\n",
            "\u001b[95m## Using tool:\u001b[00m \u001b[92mduckduckgo_search\u001b[00m\n",
            "\u001b[95m## Tool Input:\u001b[00m \u001b[92m\n",
            "\"{\\\"query\\\": \\\"latest advancements in AI 2024\\\"}\"\u001b[00m\n",
            "\u001b[95m## Tool Output:\u001b[00m \u001b[92m\n",
            "\n",
            "I encountered an error while trying to use the tool. This was the error: https://duckduckgo.com/ 202 Ratelimit.\n",
            " Tool duckduckgo_search accepts these inputs: A wrapper around DuckDuckGo Search. Useful for when you need to answer questions about current events. Input should be a search query..\n",
            "Moving on then. I MUST either use a tool (use one at time) OR give my best final answer not both at the same time. To Use the following format:\n",
            "\n",
            "Thought: you should always think about what to do\n",
            "Action: the action to take, should be one of [duckduckgo_search]\n",
            "Action Input: the input to the action, dictionary enclosed in curly braces\n",
            "Observation: the result of the action\n",
            "... (this Thought/Action/Action Input/Result can repeat N times)\n",
            "Thought: I now can give a great answer\n",
            "Final Answer: Your final answer must be the great and the most complete as possible, it must be outcome described\n",
            "\n",
            " \u001b[00m\n",
            "\n",
            "\n",
            "\u001b[1m\u001b[95m# Agent:\u001b[00m \u001b[1m\u001b[92mResearcher\u001b[00m\n",
            "\u001b[95m## Thought:\u001b[00m \u001b[92mThought: I need to gather information on the latest advancements in AI for 2024, including key trends, breakthrough technologies, and potential industry impacts. I'll attempt to search for current developments in AI for this year again.\u001b[00m\n",
            "\u001b[95m## Using tool:\u001b[00m \u001b[92mduckduckgo_search\u001b[00m\n",
            "\u001b[95m## Tool Input:\u001b[00m \u001b[92m\n",
            "\"{\\\"query\\\": \\\"latest advancements in AI 2024\\\"}\"\u001b[00m\n",
            "\u001b[95m## Tool Output:\u001b[00m \u001b[92m\n",
            "In 2024, generative AI might actually become useful for the regular, non-tech person, and we are going to see more people tinkering with a million little AI models. ... Get the latest updates from ... Discover the groundbreaking AI trends of 2024, from quantum advancements to the next generation of generative AI, poised to redefine human-AI collaborations. Generative AI tools like ChatGPT reached mass adoption in record time, and reset the course of an entire industry. ... 2024. Jennifer Dionisio. WHO. ... Get the latest updates from MIT Technology ... Discover the top 10 machine learning and AI trends for 2024 that are shaping technology and business, including multimodal, open source and customization. ... have laid the groundwork for significant advances in AI. ... The longtime analytics vendor's latest release addresses the accuracy of artificial intelligence outputs and includes an ... The most important AI trends in 2024 Tags Artificial Intelligence 9 February 2024 12 min read. Link copied 2022 was the year that generative artificial intelligence (AI) exploded into the public consciousness, and 2023 was the year it began to take root in the business world. 2024 thus stands to be a pivotal year for the future of AI, as ...\u001b[00m\n",
            "\u001b[91m \n",
            "\n",
            "I encountered an error while trying to use the tool. This was the error: https://duckduckgo.com/ 202 Ratelimit.\n",
            " Tool duckduckgo_search accepts these inputs: A wrapper around DuckDuckGo Search. Useful for when you need to answer questions about current events. Input should be a search query.\n",
            "\u001b[00m\n",
            "\n",
            "\n",
            "\u001b[1m\u001b[95m# Agent:\u001b[00m \u001b[1m\u001b[92mResearcher\u001b[00m\n",
            "\u001b[95m## Thought:\u001b[00m \u001b[92mThought: I need to gather more detailed information on the advancements in AI for 2024, focusing on key trends, breakthrough technologies, and potential industry impacts. I will conduct another search to find more comprehensive insights.\u001b[00m\n",
            "\u001b[95m## Using tool:\u001b[00m \u001b[92mduckduckgo_search\u001b[00m\n",
            "\u001b[95m## Tool Input:\u001b[00m \u001b[92m\n",
            "\"{\\\"query\\\": \\\"AI trends and technologies 2024\\\"}\"\u001b[00m\n",
            "\u001b[95m## Tool Output:\u001b[00m \u001b[92m\n",
            "\n",
            "I encountered an error while trying to use the tool. This was the error: https://duckduckgo.com/ 202 Ratelimit.\n",
            " Tool duckduckgo_search accepts these inputs: A wrapper around DuckDuckGo Search. Useful for when you need to answer questions about current events. Input should be a search query..\n",
            "Moving on then. I MUST either use a tool (use one at time) OR give my best final answer not both at the same time. To Use the following format:\n",
            "\n",
            "Thought: you should always think about what to do\n",
            "Action: the action to take, should be one of [duckduckgo_search]\n",
            "Action Input: the input to the action, dictionary enclosed in curly braces\n",
            "Observation: the result of the action\n",
            "... (this Thought/Action/Action Input/Result can repeat N times)\n",
            "Thought: I now can give a great answer\n",
            "Final Answer: Your final answer must be the great and the most complete as possible, it must be outcome described\n",
            "\n",
            " \u001b[00m\n",
            "\n",
            "\n",
            "\u001b[1m\u001b[95m# Agent:\u001b[00m \u001b[1m\u001b[92mResearcher\u001b[00m\n",
            "\u001b[95m## Thought:\u001b[00m \u001b[92mThought: I need to gather information on the latest advancements in AI for 2024, including key trends, breakthrough technologies, and potential industry impacts. Since I encountered a rate limit issue, I will wait a moment and try again to search for current developments in AI for this year.\u001b[00m\n",
            "\u001b[95m## Using tool:\u001b[00m \u001b[92mduckduckgo_search\u001b[00m\n",
            "\u001b[95m## Tool Input:\u001b[00m \u001b[92m\n",
            "\"{\\\"query\\\": \\\"latest advancements in AI 2024\\\"}\"\u001b[00m\n",
            "\u001b[95m## Tool Output:\u001b[00m \u001b[92m\n",
            "I tried reusing the same input, I must stop using this action input. I'll try something else instead.\n",
            "\n",
            "\u001b[00m\n",
            "\n",
            "\n",
            "\u001b[1m\u001b[95m# Agent:\u001b[00m \u001b[1m\u001b[92mResearcher\u001b[00m\n",
            "\u001b[95m## Thought:\u001b[00m \u001b[92mThought: I need to gather information on the latest advancements in AI for 2024, including key trends, breakthrough technologies, and potential industry impacts. Since I encountered a rate limit issue, I will wait a moment and try a different search query to find relevant information.\u001b[00m\n",
            "\u001b[95m## Using tool:\u001b[00m \u001b[92mduckduckgo_search\u001b[00m\n",
            "\u001b[95m## Tool Input:\u001b[00m \u001b[92m\n",
            "\"{\\\"query\\\": \\\"AI breakthroughs and trends 2024\\\"}\"\u001b[00m\n",
            "\u001b[95m## Tool Output:\u001b[00m \u001b[92m\n",
            "Artificial intelligence. AI for everything: 10 Breakthrough Technologies 2024. Generative AI tools like ChatGPT reached mass adoption in record time, and reset the course of an entire industry. By . In 2024, generative AI might actually become useful for the regular, non-tech person, and we are going to see more people tinkering with a million little AI models. State-of-the-art AI models ... The Top 5 Artificial Intelligence (AI) Trends For 2024. Adobe Stock. ... Their objectives are three-pronged: to catalyze technological breakthroughs, magnetize global investments, and concurrently ... The most important AI trends in 2024 Tags Artificial Intelligence 9 February 2024 12 min read. Link copied 2022 was the year that generative artificial intelligence (AI) exploded into the public consciousness, and 2023 was the year it began to take root in the business world. 2024 thus stands to be a pivotal year for the future of AI, as ... Demand for Vector Databases following OpenAI GPT-4 release in March 2023 — Google Trends (Worldwide) With Databricks recently releasing their vector data solution we are likely to expect key modern data platform players such as Snowflake to follow this trend in 2024. Possibly other adjacent technology providers are also going to jump on the trend by providing various features and services.\n",
            "\n",
            "\n",
            "You ONLY have access to the following tools, and should NEVER make up tools that are not listed here:\n",
            "\n",
            "Tool Name: duckduckgo_search\n",
            "Tool Description: A wrapper around DuckDuckGo Search. Useful for when you need to answer questions about current events. Input should be a search query.\n",
            "Tool Arguments: {'query': {'title': 'Query', 'description': 'search query to look up', 'type': 'string'}}\n",
            "\n",
            "Use the following format:\n",
            "\n",
            "Thought: you should always think about what to do\n",
            "Action: the action to take, only one name of [duckduckgo_search], just the name, exactly as it's written.\n",
            "Action Input: the input to the action, just a simple python dictionary, enclosed in curly braces, using \" to wrap keys and values.\n",
            "Observation: the result of the action\n",
            "\n",
            "Once all necessary information is gathered:\n",
            "\n",
            "Thought: I now know the final answer\n",
            "Final Answer: the final answer to the original input question\n",
            "\u001b[00m\n",
            "\u001b[91m \n",
            "\n",
            "I encountered an error while trying to use the tool. This was the error: https://duckduckgo.com/ 202 Ratelimit.\n",
            " Tool duckduckgo_search accepts these inputs: A wrapper around DuckDuckGo Search. Useful for when you need to answer questions about current events. Input should be a search query.\n",
            "\u001b[00m\n",
            "\n",
            "\n",
            "\u001b[1m\u001b[95m# Agent:\u001b[00m \u001b[1m\u001b[92mResearcher\u001b[00m\n",
            "\u001b[95m## Thought:\u001b[00m \u001b[92mThought: I need to gather more detailed information on the advancements in AI for 2024, focusing on key trends, breakthrough technologies, and potential industry impacts. I will conduct another search to find more comprehensive insights.\u001b[00m\n",
            "\u001b[95m## Using tool:\u001b[00m \u001b[92mduckduckgo_search\u001b[00m\n",
            "\u001b[95m## Tool Input:\u001b[00m \u001b[92m\n",
            "\"{\\\"query\\\": \\\"AI advancements and trends 2024\\\"}\"\u001b[00m\n",
            "\u001b[95m## Tool Output:\u001b[00m \u001b[92m\n",
            "\n",
            "I encountered an error while trying to use the tool. This was the error: https://duckduckgo.com/ 202 Ratelimit.\n",
            " Tool duckduckgo_search accepts these inputs: A wrapper around DuckDuckGo Search. Useful for when you need to answer questions about current events. Input should be a search query..\n",
            "Moving on then. I MUST either use a tool (use one at time) OR give my best final answer not both at the same time. To Use the following format:\n",
            "\n",
            "Thought: you should always think about what to do\n",
            "Action: the action to take, should be one of [duckduckgo_search]\n",
            "Action Input: the input to the action, dictionary enclosed in curly braces\n",
            "Observation: the result of the action\n",
            "... (this Thought/Action/Action Input/Result can repeat N times)\n",
            "Thought: I now can give a great answer\n",
            "Final Answer: Your final answer must be the great and the most complete as possible, it must be outcome described\n",
            "\n",
            " \u001b[00m\n",
            "\n",
            "\n",
            "\u001b[1m\u001b[95m# Agent:\u001b[00m \u001b[1m\u001b[92mResearcher\u001b[00m\n",
            "\u001b[95m## Thought:\u001b[00m \u001b[92mThought: I need to gather information on the latest advancements in AI for 2024, including key trends, breakthrough technologies, and potential industry impacts. Since I encountered a rate limit issue, I will wait a moment and try again to search for current developments in AI for this year.\u001b[00m\n",
            "\u001b[95m## Using tool:\u001b[00m \u001b[92mduckduckgo_search\u001b[00m\n",
            "\u001b[95m## Tool Input:\u001b[00m \u001b[92m\n",
            "\"{\\\"query\\\": \\\"AI trends and breakthroughs 2024\\\"}\"\u001b[00m\n",
            "\u001b[95m## Tool Output:\u001b[00m \u001b[92m\n",
            "In 2024, generative AI might actually become useful for the regular, non-tech person, and we are going to see more people tinkering with a million little AI models. State-of-the-art AI models ... The Top 5 Artificial Intelligence (AI) Trends For 2024. Adobe Stock. ... Their objectives are three-pronged: to catalyze technological breakthroughs, magnetize global investments, and concurrently ... The most important AI trends in 2024 Tags Artificial Intelligence 9 February 2024 12 min read. Link copied 2022 was the year that generative artificial intelligence (AI) exploded into the public consciousness, and 2023 was the year it began to take root in the business world. 2024 thus stands to be a pivotal year for the future of AI, as ... Artificial intelligence. AI for everything: 10 Breakthrough Technologies 2024. Generative AI tools like ChatGPT reached mass adoption in record time, and reset the course of an entire industry. By . The top strategic technology trends for 2024 are: 1. Democratized generative AI. Generative AI (aka, GenAI) is becoming democratized by the confluence of massively pre-trained models, cloud ...\u001b[00m\n",
            "\n",
            "\n",
            "\u001b[1m\u001b[95m# Agent:\u001b[00m \u001b[1m\u001b[92mResearcher\u001b[00m\n",
            "\u001b[95m## Final Answer:\u001b[00m \u001b[92m\n",
            "**Title: The Future is Now: Key Advancements in AI for 2024**\n",
            "\n",
            "As we step into 2024, the landscape of artificial intelligence (AI) is evolving at an unprecedented pace. This year is poised to be pivotal for AI, with significant advancements that promise to reshape industries and redefine human-AI interactions. Here, we explore the key trends, breakthrough technologies, and potential impacts of AI in 2024.\n",
            "\n",
            "**1. Democratization of Generative AI**\n",
            "\n",
            "One of the most significant trends in 2024 is the democratization of generative AI. Tools like ChatGPT have reached mass adoption, making advanced AI capabilities accessible to non-tech users. This shift is driven by the availability of massively pre-trained models and cloud computing resources, allowing individuals and small businesses to leverage AI for various applications, from content creation to customer service.\n",
            "\n",
            "**2. Rise of Multimodal AI**\n",
            "\n",
            "Multimodal AI, which integrates multiple forms of data (text, images, audio, etc.), is gaining traction. This technology enables more sophisticated interactions and applications, such as enhanced virtual assistants and more intuitive user interfaces. As companies invest in multimodal capabilities, we can expect to see more seamless and engaging user experiences.\n",
            "\n",
            "**3. Vector Databases and Enhanced Data Management**\n",
            "\n",
            "The demand for vector databases is on the rise, particularly following the release of OpenAI's GPT-4. These databases facilitate the storage and retrieval of high-dimensional data, which is crucial for AI applications that rely on complex datasets. Companies like Databricks are leading the charge in this area, and we anticipate that other major players in the data management space will follow suit, enhancing their offerings to support AI-driven insights.\n",
            "\n",
            "**4. Focus on Ethical AI and Regulation**\n",
            "\n",
            "As AI technologies become more integrated into daily life, the focus on ethical AI and regulatory frameworks is intensifying. Organizations are prioritizing transparency, fairness, and accountability in AI systems. In 2024, we expect to see more comprehensive guidelines and regulations aimed at ensuring responsible AI deployment, addressing concerns related to bias, privacy, and security.\n",
            "\n",
            "**5. AI in Healthcare and Life Sciences**\n",
            "\n",
            "AI's impact on healthcare continues to grow, with advancements in predictive analytics, personalized medicine, and drug discovery. In 2024, we will likely see AI tools that assist healthcare professionals in diagnosing diseases more accurately and developing tailored treatment plans. The integration of AI in clinical settings promises to enhance patient outcomes and streamline healthcare operations.\n",
            "\n",
            "**6. Quantum Computing and AI Synergy**\n",
            "\n",
            "The intersection of quantum computing and AI is another area to watch in 2024. As quantum technologies mature, they hold the potential to solve complex problems that are currently beyond the reach of classical computing. This synergy could lead to breakthroughs in various fields, including cryptography, optimization, and materials science, further accelerating AI advancements.\n",
            "\n",
            "**Conclusion**\n",
            "\n",
            "The advancements in AI for 2024 are set to transform industries and enhance the way we interact with technology. From the democratization of generative AI to the rise of multimodal systems and the focus on ethical considerations, this year promises to be a turning point in the evolution of artificial intelligence. As we embrace these changes, it is crucial for stakeholders to navigate the challenges and opportunities that lie ahead, ensuring that AI serves as a force for good in society. \n",
            "\n",
            "In summary, 2024 is not just another year for AI; it is a year of significant transformation that will shape the future of technology and its role in our lives.\u001b[00m\n",
            "\n",
            "\n",
            "\u001b[1m\u001b[95m# Agent:\u001b[00m \u001b[1m\u001b[92mResearcher\u001b[00m\n",
            "\u001b[95m## Task:\u001b[00m \u001b[92mYou have to write a technical blog post for latest advancements in AI in 2024\u001b[00m\n",
            "\n",
            "\n",
            "\u001b[1m\u001b[95m# Agent:\u001b[00m \u001b[1m\u001b[92mResearcher\u001b[00m\n",
            "\u001b[95m## Thought:\u001b[00m \u001b[92mI need to gather the latest information on advancements in AI for 2024 to write a comprehensive technical blog post.\u001b[00m\n",
            "\u001b[95m## Using tool:\u001b[00m \u001b[92mduckduckgo_search\u001b[00m\n",
            "\u001b[95m## Tool Input:\u001b[00m \u001b[92m\n",
            "\"{\\\"query\\\": \\\"latest advancements in AI 2024\\\"}\"\u001b[00m\n",
            "\u001b[95m## Tool Output:\u001b[00m \u001b[92m\n",
            "In 2024, generative AI might actually become useful for the regular, non-tech person, and we are going to see more people tinkering with a million little AI models. ... Get the latest updates from ... Discover the groundbreaking AI trends of 2024, from quantum advancements to the next generation of generative AI, poised to redefine human-AI collaborations. Generative AI tools like ChatGPT reached mass adoption in record time, and reset the course of an entire industry. ... 2024. Jennifer Dionisio. WHO. ... Get the latest updates from MIT Technology ... Discover the top 10 machine learning and AI trends for 2024 that are shaping technology and business, including multimodal, open source and customization. ... have laid the groundwork for significant advances in AI. ... The longtime analytics vendor's latest release addresses the accuracy of artificial intelligence outputs and includes an ... The most important AI trends in 2024 Tags Artificial Intelligence 9 February 2024 12 min read. Link copied 2022 was the year that generative artificial intelligence (AI) exploded into the public consciousness, and 2023 was the year it began to take root in the business world. 2024 thus stands to be a pivotal year for the future of AI, as ...\u001b[00m\n",
            "\u001b[91m \n",
            "\n",
            "I encountered an error while trying to use the tool. This was the error: https://duckduckgo.com/ 202 Ratelimit.\n",
            " Tool duckduckgo_search accepts these inputs: A wrapper around DuckDuckGo Search. Useful for when you need to answer questions about current events. Input should be a search query.\n",
            "\u001b[00m\n",
            "\n",
            "\n",
            "\u001b[1m\u001b[95m# Agent:\u001b[00m \u001b[1m\u001b[92mResearcher\u001b[00m\n",
            "\u001b[95m## Thought:\u001b[00m \u001b[92mThought: I need to gather more detailed insights and trends regarding advancements in AI for 2024 to create a comprehensive blog post.\u001b[00m\n",
            "\u001b[95m## Using tool:\u001b[00m \u001b[92mduckduckgo_search\u001b[00m\n",
            "\u001b[95m## Tool Input:\u001b[00m \u001b[92m\n",
            "\"{\\\"query\\\": \\\"AI trends advancements 2024\\\"}\"\u001b[00m\n",
            "\u001b[95m## Tool Output:\u001b[00m \u001b[92m\n",
            "\n",
            "I encountered an error while trying to use the tool. This was the error: https://duckduckgo.com/ 202 Ratelimit.\n",
            " Tool duckduckgo_search accepts these inputs: A wrapper around DuckDuckGo Search. Useful for when you need to answer questions about current events. Input should be a search query..\n",
            "Moving on then. I MUST either use a tool (use one at time) OR give my best final answer not both at the same time. To Use the following format:\n",
            "\n",
            "Thought: you should always think about what to do\n",
            "Action: the action to take, should be one of [duckduckgo_search]\n",
            "Action Input: the input to the action, dictionary enclosed in curly braces\n",
            "Observation: the result of the action\n",
            "... (this Thought/Action/Action Input/Result can repeat N times)\n",
            "Thought: I now can give a great answer\n",
            "Final Answer: Your final answer must be the great and the most complete as possible, it must be outcome described\n",
            "\n",
            " \u001b[00m\n",
            "\u001b[91m \n",
            "\n",
            "I encountered an error while trying to use the tool. This was the error: https://duckduckgo.com/ 202 Ratelimit.\n",
            " Tool duckduckgo_search accepts these inputs: A wrapper around DuckDuckGo Search. Useful for when you need to answer questions about current events. Input should be a search query.\n",
            "\u001b[00m\n",
            "\n",
            "\n",
            "\u001b[1m\u001b[95m# Agent:\u001b[00m \u001b[1m\u001b[92mResearcher\u001b[00m\n",
            "\u001b[95m## Thought:\u001b[00m \u001b[92mThought: I need to gather more detailed insights and trends regarding advancements in AI for 2024 to create a comprehensive blog post.\u001b[00m\n",
            "\u001b[95m## Using tool:\u001b[00m \u001b[92mduckduckgo_search\u001b[00m\n",
            "\u001b[95m## Tool Input:\u001b[00m \u001b[92m\n",
            "\"{\\\"query\\\": \\\"AI advancements trends 2024\\\"}\"\u001b[00m\n",
            "\u001b[95m## Tool Output:\u001b[00m \u001b[92m\n",
            "\n",
            "I encountered an error while trying to use the tool. This was the error: https://duckduckgo.com/ 202 Ratelimit.\n",
            " Tool duckduckgo_search accepts these inputs: A wrapper around DuckDuckGo Search. Useful for when you need to answer questions about current events. Input should be a search query..\n",
            "Moving on then. I MUST either use a tool (use one at time) OR give my best final answer not both at the same time. To Use the following format:\n",
            "\n",
            "Thought: you should always think about what to do\n",
            "Action: the action to take, should be one of [duckduckgo_search]\n",
            "Action Input: the input to the action, dictionary enclosed in curly braces\n",
            "Observation: the result of the action\n",
            "... (this Thought/Action/Action Input/Result can repeat N times)\n",
            "Thought: I now can give a great answer\n",
            "Final Answer: Your final answer must be the great and the most complete as possible, it must be outcome described\n",
            "\n",
            " \u001b[00m\n",
            "\n",
            "\n",
            "\u001b[1m\u001b[95m# Agent:\u001b[00m \u001b[1m\u001b[92mResearcher\u001b[00m\n",
            "\u001b[95m## Thought:\u001b[00m \u001b[92mThought: I need to gather the latest information on advancements in AI for 2024 to write a comprehensive technical blog post. Since I encountered a rate limit error, I will attempt to search again with a different query.\u001b[00m\n",
            "\u001b[95m## Using tool:\u001b[00m \u001b[92mduckduckgo_search\u001b[00m\n",
            "\u001b[95m## Tool Input:\u001b[00m \u001b[92m\n",
            "\"{\\\"query\\\": \\\"AI technology advancements 2024\\\"}\"\u001b[00m\n",
            "\u001b[95m## Tool Output:\u001b[00m \u001b[92m\n",
            "Founded at the Massachusetts Institute of Technology in 1899, MIT Technology Review is a world-renowned, independent media company whose insight, analysis, reviews, interviews and live events ... In 2024, generative AI might actually become useful for the regular, non-tech person, and we are going to see more people tinkering with a million little AI models. State-of-the-art AI models ... 10 Breakthrough Technologies. Every year, the reporters and editors at MIT Technology Review survey the tech landscape and pick 10 technologies that we think have the greatest potential to change ... At an event in San Francisco in November, Sam Altman, the chief executive of the artificial intelligence company OpenAI, was asked what surprises the field would bring in 2024. Online chatbots ... Here are the top 10 AI and machine learning trends to prepare for in 2024. 1. Multimodal AI. Multimodal AI goes beyond traditional single-mode data processing to encompass multiple input types, such as text, images and sound -- a step toward mimicking the human ability to process diverse sensory information.\u001b[00m\n",
            "\n",
            "\n",
            "\u001b[1m\u001b[95m# Agent:\u001b[00m \u001b[1m\u001b[92mResearcher\u001b[00m\n",
            "\u001b[95m## Final Answer:\u001b[00m \u001b[92m\n",
            "**Title: The Future is Now: Key Advancements in AI for 2024**\n",
            "\n",
            "As we step into 2024, the landscape of artificial intelligence (AI) is evolving at an unprecedented pace. This year is poised to be pivotal for AI, with significant advancements that promise to reshape industries and redefine human-AI interactions. Here, we explore the key trends, breakthrough technologies, and potential impacts of AI in 2024.\n",
            "\n",
            "**1. Democratization of Generative AI**\n",
            "\n",
            "One of the most significant trends in 2024 is the democratization of generative AI. Tools like ChatGPT have reached mass adoption, making advanced AI capabilities accessible to non-tech users. This shift is driven by the availability of massively pre-trained models and cloud computing resources, allowing individuals and small businesses to leverage AI for various applications, from content creation to customer service. As generative AI becomes more user-friendly, we can expect a surge in creativity and innovation across various sectors.\n",
            "\n",
            "**2. Rise of Multimodal AI**\n",
            "\n",
            "Multimodal AI, which integrates multiple forms of data (text, images, audio, etc.), is gaining traction. This technology enables more sophisticated interactions and applications, such as enhanced virtual assistants and more intuitive user interfaces. As companies invest in multimodal capabilities, we can expect to see more seamless and engaging user experiences. This advancement is a step toward mimicking the human ability to process diverse sensory information, making AI systems more versatile and effective.\n",
            "\n",
            "**3. Vector Databases and Enhanced Data Management**\n",
            "\n",
            "The demand for vector databases is on the rise, particularly following the release of OpenAI's GPT-4. These databases facilitate the storage and retrieval of high-dimensional data, which is crucial for AI applications that rely on complex datasets. Companies like Databricks are leading the charge in this area, and we anticipate that other major players in the data management space will follow suit, enhancing their offerings to support AI-driven insights. This trend will enable organizations to harness the full potential of their data, driving better decision-making and innovation.\n",
            "\n",
            "**4. Focus on Ethical AI and Regulation**\n",
            "\n",
            "As AI technologies become more integrated into daily life, the focus on ethical AI and regulatory frameworks is intensifying. Organizations are prioritizing transparency, fairness, and accountability in AI systems. In 2024, we expect to see more comprehensive guidelines and regulations aimed at ensuring responsible AI deployment, addressing concerns related to bias, privacy, and security. This emphasis on ethical considerations will be crucial in building public trust and ensuring that AI serves the greater good.\n",
            "\n",
            "**5. AI in Healthcare and Life Sciences**\n",
            "\n",
            "AI's impact on healthcare continues to grow, with advancements in predictive analytics, personalized medicine, and drug discovery. In 2024, we will likely see AI tools that assist healthcare professionals in diagnosing diseases more accurately and developing tailored treatment plans. The integration of AI in clinical settings promises to enhance patient outcomes and streamline healthcare operations, ultimately leading to a more efficient and effective healthcare system.\n",
            "\n",
            "**6. Quantum Computing and AI Synergy**\n",
            "\n",
            "The intersection of quantum computing and AI is another area to watch in 2024. As quantum technologies mature, they hold the potential to solve complex problems that are currently beyond the reach of classical computing. This synergy could lead to breakthroughs in various fields, including cryptography, optimization, and materials science, further accelerating AI advancements. The combination of these two powerful technologies could unlock new possibilities and drive innovation in ways we have yet to imagine.\n",
            "\n",
            "**Conclusion**\n",
            "\n",
            "The advancements in AI for 2024 are set to transform industries and enhance the way we interact with technology. From the democratization of generative AI to the rise of multimodal systems and the focus on ethical considerations, this year promises to be a turning point in the evolution of artificial intelligence. As we embrace these changes, it is crucial for stakeholders to navigate the challenges and opportunities that lie ahead, ensuring that AI serves as a force for good in society.\n",
            "\n",
            "In summary, 2024 is not just another year for AI; it is a year of significant transformation that will shape the future of technology and its role in our lives.\u001b[00m\n",
            "\n",
            "\n"
          ]
        },
        {
          "output_type": "execute_result",
          "data": {
            "text/plain": [
              "<IPython.core.display.Markdown object>"
            ],
            "text/markdown": "**Title: The Future is Now: Key Advancements in AI for 2024**\n\nAs we step into 2024, the landscape of artificial intelligence (AI) is evolving at an unprecedented pace. This year is poised to be pivotal for AI, with significant advancements that promise to reshape industries and redefine human-AI interactions. Here, we explore the key trends, breakthrough technologies, and potential impacts of AI in 2024.\n\n**1. Democratization of Generative AI**\n\nOne of the most significant trends in 2024 is the democratization of generative AI. Tools like ChatGPT have reached mass adoption, making advanced AI capabilities accessible to non-tech users. This shift is driven by the availability of massively pre-trained models and cloud computing resources, allowing individuals and small businesses to leverage AI for various applications, from content creation to customer service. As generative AI becomes more user-friendly, we can expect a surge in creativity and innovation across various sectors.\n\n**2. Rise of Multimodal AI**\n\nMultimodal AI, which integrates multiple forms of data (text, images, audio, etc.), is gaining traction. This technology enables more sophisticated interactions and applications, such as enhanced virtual assistants and more intuitive user interfaces. As companies invest in multimodal capabilities, we can expect to see more seamless and engaging user experiences. This advancement is a step toward mimicking the human ability to process diverse sensory information, making AI systems more versatile and effective.\n\n**3. Vector Databases and Enhanced Data Management**\n\nThe demand for vector databases is on the rise, particularly following the release of OpenAI's GPT-4. These databases facilitate the storage and retrieval of high-dimensional data, which is crucial for AI applications that rely on complex datasets. Companies like Databricks are leading the charge in this area, and we anticipate that other major players in the data management space will follow suit, enhancing their offerings to support AI-driven insights. This trend will enable organizations to harness the full potential of their data, driving better decision-making and innovation.\n\n**4. Focus on Ethical AI and Regulation**\n\nAs AI technologies become more integrated into daily life, the focus on ethical AI and regulatory frameworks is intensifying. Organizations are prioritizing transparency, fairness, and accountability in AI systems. In 2024, we expect to see more comprehensive guidelines and regulations aimed at ensuring responsible AI deployment, addressing concerns related to bias, privacy, and security. This emphasis on ethical considerations will be crucial in building public trust and ensuring that AI serves the greater good.\n\n**5. AI in Healthcare and Life Sciences**\n\nAI's impact on healthcare continues to grow, with advancements in predictive analytics, personalized medicine, and drug discovery. In 2024, we will likely see AI tools that assist healthcare professionals in diagnosing diseases more accurately and developing tailored treatment plans. The integration of AI in clinical settings promises to enhance patient outcomes and streamline healthcare operations, ultimately leading to a more efficient and effective healthcare system.\n\n**6. Quantum Computing and AI Synergy**\n\nThe intersection of quantum computing and AI is another area to watch in 2024. As quantum technologies mature, they hold the potential to solve complex problems that are currently beyond the reach of classical computing. This synergy could lead to breakthroughs in various fields, including cryptography, optimization, and materials science, further accelerating AI advancements. The combination of these two powerful technologies could unlock new possibilities and drive innovation in ways we have yet to imagine.\n\n**Conclusion**\n\nThe advancements in AI for 2024 are set to transform industries and enhance the way we interact with technology. From the democratization of generative AI to the rise of multimodal systems and the focus on ethical considerations, this year promises to be a turning point in the evolution of artificial intelligence. As we embrace these changes, it is crucial for stakeholders to navigate the challenges and opportunities that lie ahead, ensuring that AI serves as a force for good in society.\n\nIn summary, 2024 is not just another year for AI; it is a year of significant transformation that will shape the future of technology and its role in our lives."
          },
          "metadata": {},
          "execution_count": 7
        }
      ]
    },
    {
      "cell_type": "code",
      "source": [],
      "metadata": {
        "id": "bsW9oB2A1_G7"
      },
      "execution_count": null,
      "outputs": []
    }
  ],
  "metadata": {
    "colab": {
      "provenance": []
    },
    "kernelspec": {
      "display_name": "Python 3 (ipykernel)",
      "language": "python",
      "name": "python3"
    },
    "language_info": {
      "codemirror_mode": {
        "name": "ipython",
        "version": 3
      },
      "file_extension": ".py",
      "mimetype": "text/x-python",
      "name": "python",
      "nbconvert_exporter": "python",
      "pygments_lexer": "ipython3"
    }
  },
  "nbformat": 4,
  "nbformat_minor": 0
}